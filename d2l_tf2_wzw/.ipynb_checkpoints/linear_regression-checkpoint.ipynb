{
 "cells": [
  {
   "cell_type": "code",
   "execution_count": 2,
   "metadata": {},
   "outputs": [],
   "source": [
    "%matplotlib inline\n",
    "from matplotlib import pyplot as plt\n",
    "import tensorflow as tf\n",
    "import random"
   ]
  },
  {
   "cell_type": "code",
   "execution_count": 4,
   "metadata": {},
   "outputs": [
    {
     "data": {
      "text/plain": [
       "(<tf.Tensor: shape=(10000, 10), dtype=float32, numpy=\n",
       " array([[-0.47157457,  0.24939586,  0.04944343, ..., -1.3135784 ,\n",
       "         -0.5351446 , -0.5454582 ],\n",
       "        [ 1.3671305 ,  1.7108953 , -1.6642755 , ...,  0.09414653,\n",
       "         -0.05745434,  0.5813933 ],\n",
       "        [ 0.3652682 , -0.8966927 , -0.00805752, ...,  1.2902771 ,\n",
       "          0.19856007,  0.40314102],\n",
       "        ...,\n",
       "        [ 0.01268194,  0.9674044 , -0.59298146, ..., -0.65975136,\n",
       "         -1.5424176 ,  0.26429647],\n",
       "        [ 0.4917017 ,  0.19927835, -0.2134564 , ..., -1.5671163 ,\n",
       "          0.3807777 ,  0.13409434],\n",
       "        [-1.739907  , -1.881079  , -0.32489863, ..., -1.2698141 ,\n",
       "         -0.22580141, -0.3525148 ]], dtype=float32)>,\n",
       " <tf.Tensor: shape=(10000, 1), dtype=float32, numpy=\n",
       " array([[-57.786083],\n",
       "        [ 13.180383],\n",
       "        [ 38.553318],\n",
       "        ...,\n",
       "        [ 19.79428 ],\n",
       "        [-15.569292],\n",
       "        [-55.332973]], dtype=float32)>)"
      ]
     },
     "execution_count": 4,
     "metadata": {},
     "output_type": "execute_result"
    }
   ],
   "source": [
    "num_of_features = 10\n",
    "num_of_samples = 10000\n",
    "w_true = tf.random.normal((num_of_features, 1), mean=13, stddev=1)\n",
    "b_true = tf.random.normal((1, 1))\n",
    "X = tf.random.normal([num_of_samples, num_of_features], mean=0, stddev=1)\n",
    "y = tf.matmul(X, w_true) + b_true + tf.random.normal((num_of_samples, 1), mean=0, stddev=0.01)\n",
    "X, y"
   ]
  },
  {
   "cell_type": "code",
   "execution_count": 18,
   "metadata": {},
   "outputs": [
    {
     "data": {
      "image/png": "[encoded data removed]",
      "text/plain": [
       "<Figure size 432x432 with 1 Axes>"
      ]
     },
     "metadata": {
      "needs_background": "light"
     },
     "output_type": "display_data"
    }
   ],
   "source": [
    "def set_figsize(figsize=(3.5,2.5)):\n",
    "    plt.rcParams['figure.figsize'] = figsize\n",
    "    return \n",
    "\n",
    "set_figsize((6,6))\n",
    "plt.scatter(X[:,3], y)\n",
    "plt.show()"
   ]
  },
  {
   "cell_type": "code",
   "execution_count": 19,
   "metadata": {},
   "outputs": [],
   "source": [
    "def data_iter(X, y, batch_size):\n",
    "    N = len(X)\n",
    "    indices = list(range(N))\n",
    "    random.shuffle(indices)\n",
    "    for i in range(0, N, batch_size):\n",
    "        j = indices[i: i+batch_size]\n",
    "        yield tf.gather(X, axis=0, indices=j), tf.gather(y, axis=0, indices=j)\n"
   ]
  },
  {
   "cell_type": "code",
   "execution_count": 21,
   "metadata": {},
   "outputs": [],
   "source": [
    "w = tf.Variable(tf.random.normal([num_of_features, 1], mean=0, stddev=0.01))\n",
    "b = tf.Variable(tf.zeros([1, 1]))"
   ]
  },
  {
   "cell_type": "code",
   "execution_count": 23,
   "metadata": {},
   "outputs": [],
   "source": [
    "def linreg(X, w, b):\n",
    "    return tf.matmul(X, w) + b"
   ]
  },
  {
   "cell_type": "code",
   "execution_count": 24,
   "metadata": {},
   "outputs": [],
   "source": [
    "def squared_loss(y_pred, y_true):\n",
    "    return (y_pred - y_true)**2 / 2"
   ]
  },
  {
   "cell_type": "code",
   "execution_count": 25,
   "metadata": {},
   "outputs": [],
   "source": [
    "def sgd(params, lr, batch_size, grads):\n",
    "    for i, param in enumerate(params):\n",
    "        param.assign_sub(lr * grads[i] / batch_size)"
   ]
  },
  {
   "cell_type": "code",
   "execution_count": 30,
   "metadata": {},
   "outputs": [
    {
     "name": "stdout",
     "output_type": "stream",
     "text": [
      "epoch #0: 0.000050\n",
      "epoch #1: 0.000050\n",
      "epoch #2: 0.000050\n",
      "epoch #3: 0.000050\n",
      "epoch #4: 0.000050\n"
     ]
    }
   ],
   "source": [
    "lr = 0.03\n",
    "num_epochs = 5\n",
    "net = linreg\n",
    "loss = squared_loss\n",
    "batch_size = 16\n",
    "\n",
    "for ep in range(num_epochs):\n",
    "    for X_cur, y_cur in data_iter(X, y, batch_size):\n",
    "        with tf.GradientTape() as t:\n",
    "            t.watch([w, b])\n",
    "            obj = loss(net(X_cur, w, b), y_cur)\n",
    "        grads = t.gradient(obj, [w, b])\n",
    "        sgd([w, b], lr, batch_size, grads)\n",
    "    train_loss = loss(net(X, w, b), y)\n",
    "    print('epoch #%d: %.6f' % (ep, tf.reduce_mean(train_loss)))\n"
   ]
  },
  {
   "cell_type": "code",
   "execution_count": null,
   "metadata": {},
   "outputs": [],
   "source": []
  },
  {
   "cell_type": "code",
   "execution_count": null,
   "metadata": {},
   "outputs": [],
   "source": []
  },
  {
   "cell_type": "code",
   "execution_count": 31,
   "metadata": {},
   "outputs": [],
   "source": [
    "from tensorflow import data as tfdata"
   ]
  },
  {
   "cell_type": "code",
   "execution_count": 33,
   "metadata": {
    "scrolled": true
   },
   "outputs": [
    {
     "name": "stdout",
     "output_type": "stream",
     "text": [
      "tf.Tensor(\n",
      "[[ 7.05993176e-01 -1.43520212e+00 -9.28274274e-01  6.13289773e-01\n",
      "   1.37036514e+00  8.06010485e-01  7.16216490e-02 -4.14028704e-01\n",
      "   1.38593102e+00  5.04884660e-01]\n",
      " [-2.95450985e-01  4.02740210e-01  8.22552741e-01  1.17877412e+00\n",
      "  -1.66258502e+00  8.65739226e-01  2.30186272e+00  1.07771325e+00\n",
      "  -4.43799794e-01 -7.21589029e-01]\n",
      " [-7.47628272e-01  1.01806894e-01  1.31833851e+00 -9.70982373e-01\n",
      "  -1.12329952e-01 -5.82007110e-01 -1.17531992e-01 -1.74631643e+00\n",
      "   1.23097622e+00 -7.32817292e-01]\n",
      " [ 5.40646315e-02 -1.22211182e+00  1.64107621e-01  9.46722627e-01\n",
      "   3.40255409e-01 -1.25193343e-01  3.66252899e-01  1.90108806e-01\n",
      "  -2.51592577e-01 -7.01132238e-01]\n",
      " [-8.04930151e-01 -1.33111465e+00  6.92910969e-01  5.63120365e-01\n",
      "   1.21320856e+00  5.15860617e-01  1.62595749e+00  2.38353446e-01\n",
      "   1.16527689e+00  1.68417132e+00]\n",
      " [-1.28128314e+00  4.93848354e-01  1.32977653e+00 -8.73613656e-01\n",
      "  -4.69800793e-02  2.50927806e-01 -1.05261254e+00 -9.12821829e-01\n",
      "  -1.20316911e+00 -1.13297367e+00]\n",
      " [ 1.92182219e+00  4.04767059e-02  4.49043393e-01  1.24980438e+00\n",
      "  -7.69249380e-01  7.23062873e-01  1.01741827e+00  1.23158729e+00\n",
      "  -7.09644258e-02 -8.33128765e-02]\n",
      " [-5.32958448e-01 -4.27143216e-01 -1.99354768e+00  1.83466434e-01\n",
      "  -1.30851464e-02  2.81287491e-01  8.63358319e-01  1.23190963e+00\n",
      "  -4.82790679e-01 -2.32060766e+00]\n",
      " [ 1.39385867e+00 -6.82979226e-02  4.59618568e-01  1.44217372e+00\n",
      "   4.93952572e-01  1.39746964e+00 -2.33318180e-01 -1.21018970e+00\n",
      "   1.59447646e+00  4.85223830e-01]\n",
      " [-6.83625638e-01 -1.89603317e+00 -2.84933299e-01  1.87801504e+00\n",
      "   9.13530946e-01  3.57770920e-02  2.29876176e-01  3.14687997e-01\n",
      "  -8.81075323e-01 -7.47513950e-01]\n",
      " [ 1.16727448e+00  6.73468530e-01 -6.88527405e-01  3.25441882e-02\n",
      "   1.23291111e+00  9.08772126e-02 -1.22178480e-01  2.46968716e-01\n",
      "  -6.11524209e-02 -1.10828733e+00]\n",
      " [ 3.08904707e-01  5.27481079e-01  4.23262328e-01 -7.60515392e-01\n",
      "  -4.51217890e-01 -1.18444955e+00 -6.05610050e-02 -5.32128572e-01\n",
      "   3.12495440e-01 -4.58812296e-01]\n",
      " [-1.18772757e+00  1.13348985e+00  1.45206165e+00  8.78584266e-01\n",
      "   6.91881254e-02  4.63771552e-01  1.21797442e-01  1.64089799e+00\n",
      "  -4.13705885e-01 -2.28580564e-01]\n",
      " [ 2.10453686e-03 -1.45669878e+00 -1.93444058e-01  2.73427337e-01\n",
      "   3.43955457e-01  1.02260900e+00  2.68645644e-01  1.53663826e+00\n",
      "   9.53571200e-01 -8.89153123e-01]\n",
      " [-7.58471608e-01  1.60080802e+00 -9.66302216e-01  9.59633708e-01\n",
      "   3.34462374e-01  4.42258269e-01  1.98719072e+00  7.77607262e-01\n",
      "   6.71940297e-02 -9.07645702e-01]\n",
      " [-6.90324605e-01 -2.38807783e-01  1.97808538e-02 -5.20167232e-01\n",
      "  -8.58385503e-01  1.04236221e+00  1.03764750e-01 -7.03763306e-01\n",
      "  -4.62173194e-01  4.49902415e-02]], shape=(16, 10), dtype=float32) tf.Tensor(\n",
      "[[ 35.15191  ]\n",
      " [ 48.308136 ]\n",
      " [-29.252426 ]\n",
      " [ -1.5680693]\n",
      " [ 73.7292   ]\n",
      " [-56.86272  ]\n",
      " [ 75.88066  ]\n",
      " [-42.54977  ]\n",
      " [ 76.68998  ]\n",
      " [-12.842318 ]\n",
      " [ 18.846    ]\n",
      " [-23.45588  ]\n",
      " [ 51.19123  ]\n",
      " [ 23.136189 ]\n",
      " [ 46.699856 ]\n",
      " [-28.495201 ]], shape=(16, 1), dtype=float32)\n"
     ]
    }
   ],
   "source": [
    "batch_size = 16\n",
    "\n",
    "dataset = tfdata.Dataset.from_tensor_slices((X, y))  # warn, dont use [X, y]\n",
    "dataset = dataset.shuffle(buffer_size=num_of_samples)\n",
    "dataset = dataset.batch(batch_size)\n",
    "data_iter = iter(dataset)\n",
    "\n",
    "for X_cur, y_cur in data_iter:\n",
    "    print(X_cur, y_cur)\n",
    "    break"
   ]
  },
  {
   "cell_type": "code",
   "execution_count": 35,
   "metadata": {},
   "outputs": [],
   "source": [
    "from tensorflow import keras\n",
    "from tensorflow.keras import layers\n",
    "from tensorflow import initializers as init\n",
    "\n",
    "model = keras.Sequential()\n",
    "model.add(layers.Dense(1, kernel_initializer=init.RandomNormal(mean=0, stddev=0.01)))"
   ]
  },
  {
   "cell_type": "code",
   "execution_count": 36,
   "metadata": {},
   "outputs": [],
   "source": [
    "from tensorflow import losses\n",
    "loss = losses.MeanSquaredError()\n",
    "\n",
    "from tensorflow.keras import optimizers\n",
    "opt = optimizers.SGD(learning_rate=0.03)"
   ]
  },
  {
   "cell_type": "code",
   "execution_count": 38,
   "metadata": {},
   "outputs": [
    {
     "name": "stdout",
     "output_type": "stream",
     "text": [
      "epoch #0: 0.000100\n",
      "epoch #1: 0.000100\n",
      "epoch #2: 0.000099\n",
      "epoch #3: 0.000102\n",
      "epoch #4: 0.000100\n"
     ]
    }
   ],
   "source": [
    "num_epochs = 5\n",
    "for ep in range(num_epochs):\n",
    "    for X_cur, y_cur in dataset:\n",
    "        with tf.GradientTape() as tape:\n",
    "            batch_loss = loss(model(X_cur, training=True), y_cur)\n",
    "        grads = tape.gradient(batch_loss, model.trainable_variables)\n",
    "        opt.apply_gradients(zip(grads, model.trainable_variables))\n",
    "    epoch_loss = loss(model(X), y)\n",
    "    print(\"epoch #%d: %.6f\" % (ep, tf.reduce_mean(epoch_loss)))"
   ]
  },
  {
   "cell_type": "code",
   "execution_count": null,
   "metadata": {},
   "outputs": [],
   "source": []
  }
 ],
 "metadata": {
  "kernelspec": {
   "display_name": "Python 3",
   "language": "python",
   "name": "python3"
  },
  "language_info": {
   "codemirror_mode": {
    "name": "ipython",
    "version": 3
   },
   "file_extension": ".py",
   "mimetype": "text/x-python",
   "name": "python",
   "nbconvert_exporter": "python",
   "pygments_lexer": "ipython3",
   "version": "3.7.6"
  }
 },
 "nbformat": 4,
 "nbformat_minor": 4
}
