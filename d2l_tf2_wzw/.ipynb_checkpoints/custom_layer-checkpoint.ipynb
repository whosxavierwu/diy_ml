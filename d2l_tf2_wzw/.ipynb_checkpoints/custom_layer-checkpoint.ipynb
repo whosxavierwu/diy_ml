{
 "cells": [
  {
   "cell_type": "code",
   "execution_count": 1,
   "metadata": {},
   "outputs": [],
   "source": [
    "import numpy as np\n",
    "import tensorflow as tf\n",
    "from tensorflow import keras\n"
   ]
  },
  {
   "cell_type": "code",
   "execution_count": 2,
   "metadata": {},
   "outputs": [],
   "source": [
    "X = tf.random.normal((2, 20))"
   ]
  },
  {
   "cell_type": "code",
   "execution_count": 4,
   "metadata": {},
   "outputs": [
    {
     "data": {
      "text/plain": [
       "<tf.Tensor: shape=(5,), dtype=int32, numpy=array([-2, -1,  0,  1,  2])>"
      ]
     },
     "execution_count": 4,
     "metadata": {},
     "output_type": "execute_result"
    }
   ],
   "source": [
    "class CenteredLayer(keras.layers.Layer):\n",
    "    def __init__(self):\n",
    "        super().__init__()\n",
    "        return\n",
    "    \n",
    "    def call(self, inputs):\n",
    "        return inputs - tf.reduce_mean(inputs)\n",
    "    \n",
    "layer = CenteredLayer()\n",
    "layer(np.array(range(1,6)))"
   ]
  },
  {
   "cell_type": "code",
   "execution_count": 5,
   "metadata": {},
   "outputs": [
    {
     "data": {
      "text/plain": [
       "<tf.Tensor: shape=(2, 20), dtype=float32, numpy=\n",
       "array([[-1.1940804 ,  1.217185  ,  0.7845655 ,  0.76938003, -0.20262888,\n",
       "        -1.6772251 , -0.90629244,  0.058927  ,  0.1250886 , -0.0245524 ,\n",
       "         0.9408218 , -1.0985968 , -0.53535795,  2.3908985 ,  1.1724932 ,\n",
       "         0.67481637,  0.11353979,  0.10581785,  0.01595876, -0.62642777],\n",
       "       [ 0.87906545, -1.3928931 , -0.47060126,  0.6045837 ,  0.54544365,\n",
       "        -1.3663642 , -0.4133054 ,  0.73657304,  0.3873551 , -1.997406  ,\n",
       "         0.23804694, -0.339131  , -2.1294026 ,  1.4030905 ,  1.4823356 ,\n",
       "         2.5308192 , -0.35582334, -0.15062147, -2.0119712 , -0.28412458]],\n",
       "      dtype=float32)>"
      ]
     },
     "execution_count": 5,
     "metadata": {},
     "output_type": "execute_result"
    }
   ],
   "source": [
    "net = keras.Sequential([\n",
    "    keras.layers.Flatten(), \n",
    "    keras.layers.Dense(20), \n",
    "    CenteredLayer(), \n",
    "])\n",
    "Y = net(X)\n",
    "Y"
   ]
  },
  {
   "cell_type": "code",
   "execution_count": 7,
   "metadata": {},
   "outputs": [
    {
     "data": {
      "text/plain": [
       "[array([[-0.00419268,  0.01456909, -0.01233843],\n",
       "        [ 0.00411092,  0.0028    , -0.04508677],\n",
       "        [ 0.05613092, -0.0498807 ,  0.06665712],\n",
       "        [-0.0462801 ,  0.05012365,  0.00663658],\n",
       "        [-0.05303336, -0.07328521,  0.0291488 ],\n",
       "        [ 0.04388564, -0.03752286, -0.13475782],\n",
       "        [ 0.01012243,  0.11493879, -0.00201484],\n",
       "        [-0.02633796, -0.02684762, -0.08326282],\n",
       "        [ 0.01557926,  0.02969923,  0.03254324],\n",
       "        [ 0.03186631, -0.00856358, -0.00227191],\n",
       "        [ 0.06143985, -0.0796839 ,  0.01192056],\n",
       "        [-0.00595927,  0.08682775,  0.00591079],\n",
       "        [ 0.03717601, -0.05806025,  0.08944369],\n",
       "        [ 0.02493295, -0.02275361,  0.08335495],\n",
       "        [ 0.00292322,  0.08369823,  0.03438101],\n",
       "        [-0.00872103,  0.04534239, -0.00920307],\n",
       "        [ 0.01954572,  0.05471822, -0.08271285],\n",
       "        [-0.02943964,  0.09414642, -0.01427368],\n",
       "        [-0.030396  , -0.04775856, -0.00811786],\n",
       "        [-0.06052263, -0.06857165,  0.01226079]], dtype=float32),\n",
       " array([0., 0., 0.], dtype=float32)]"
      ]
     },
     "execution_count": 7,
     "metadata": {},
     "output_type": "execute_result"
    }
   ],
   "source": [
    "class myDense(keras.layers.Layer):\n",
    "    def __init__(self, units):\n",
    "        super().__init__()\n",
    "        self.units = units\n",
    "        return \n",
    "    \n",
    "    def build(self, input_shape):\n",
    "        self.W = self.add_weight(\n",
    "            name='W', \n",
    "            shape=[input_shape[-1], self.units], \n",
    "            initializer=tf.random_normal_initializer()\n",
    "        )\n",
    "        self.b = self.add_weight(\n",
    "            name='b', \n",
    "            shape=[self.units], \n",
    "            initializer=tf.zeros_initializer()\n",
    "        )\n",
    "        return \n",
    "    \n",
    "    def call(self, inputs):\n",
    "        y_pred = tf.matmul(inputs, self.W) + self.b\n",
    "        return y_pred\n",
    "    \n",
    "dense = myDense(3)\n",
    "dense(X)\n",
    "dense.get_weights()"
   ]
  },
  {
   "cell_type": "code",
   "execution_count": 8,
   "metadata": {},
   "outputs": [
    {
     "data": {
      "text/plain": [
       "<tf.Tensor: shape=(2, 1), dtype=float32, numpy=\n",
       "array([[-0.00840666],\n",
       "       [-0.04006834]], dtype=float32)>"
      ]
     },
     "execution_count": 8,
     "metadata": {},
     "output_type": "execute_result"
    }
   ],
   "source": [
    "net = keras.Sequential([\n",
    "    myDense(8), \n",
    "    myDense(1)\n",
    "])\n",
    "net(X)"
   ]
  },
  {
   "cell_type": "code",
   "execution_count": null,
   "metadata": {},
   "outputs": [],
   "source": []
  }
 ],
 "metadata": {
  "kernelspec": {
   "display_name": "Python 3",
   "language": "python",
   "name": "python3"
  },
  "language_info": {
   "codemirror_mode": {
    "name": "ipython",
    "version": 3
   },
   "file_extension": ".py",
   "mimetype": "text/x-python",
   "name": "python",
   "nbconvert_exporter": "python",
   "pygments_lexer": "ipython3",
   "version": "3.7.6"
  }
 },
 "nbformat": 4,
 "nbformat_minor": 4
}
