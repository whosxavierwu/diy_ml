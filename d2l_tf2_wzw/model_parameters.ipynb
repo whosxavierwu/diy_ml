{
 "cells": [
  {
   "cell_type": "code",
   "execution_count": 1,
   "metadata": {},
   "outputs": [],
   "source": [
    "import numpy as np\n",
    "import tensorflow as tf\n",
    "from tensorflow import keras"
   ]
  },
  {
   "cell_type": "code",
   "execution_count": 2,
   "metadata": {},
   "outputs": [
    {
     "name": "stdout",
     "output_type": "stream",
     "text": [
      "tf.Tensor(\n",
      "[[-0.43679407 -0.42192775 -0.34603888 -0.09184921  0.0563108   0.51802087\n",
      "   0.16793667  0.15161669  0.9402516  -0.12233943]\n",
      " [-0.6205681  -0.48645726  0.57811624  0.2102294  -0.06454594 -0.02340469\n",
      "   0.17970978  0.14605168  0.3004432   0.05152667]], shape=(2, 10), dtype=float32)\n"
     ]
    }
   ],
   "source": [
    "net = keras.Sequential([\n",
    "    keras.layers.Flatten(), \n",
    "    keras.layers.Dense(256, activation='relu'), \n",
    "    keras.layers.Dense(10), \n",
    "])\n",
    "\n",
    "X = tf.random.normal((2, 20))\n",
    "Y = net(X)\n",
    "print(Y)"
   ]
  },
  {
   "cell_type": "code",
   "execution_count": 6,
   "metadata": {},
   "outputs": [
    {
     "name": "stdout",
     "output_type": "stream",
     "text": [
      "4 (20, 256)\n"
     ]
    }
   ],
   "source": [
    "print(len(net.weights), net.weights[0].shape)"
   ]
  },
  {
   "cell_type": "code",
   "execution_count": 8,
   "metadata": {},
   "outputs": [
    {
     "data": {
      "text/plain": [
       "[array([[0., 0., 0., 0., 0., 0., 0., 0., 0., 0.],\n",
       "        [0., 0., 0., 0., 0., 0., 0., 0., 0., 0.],\n",
       "        [0., 0., 0., 0., 0., 0., 0., 0., 0., 0.],\n",
       "        [0., 0., 0., 0., 0., 0., 0., 0., 0., 0.],\n",
       "        [0., 0., 0., 0., 0., 0., 0., 0., 0., 0.],\n",
       "        [0., 0., 0., 0., 0., 0., 0., 0., 0., 0.],\n",
       "        [0., 0., 0., 0., 0., 0., 0., 0., 0., 0.],\n",
       "        [0., 0., 0., 0., 0., 0., 0., 0., 0., 0.],\n",
       "        [0., 0., 0., 0., 0., 0., 0., 0., 0., 0.],\n",
       "        [0., 0., 0., 0., 0., 0., 0., 0., 0., 0.],\n",
       "        [0., 0., 0., 0., 0., 0., 0., 0., 0., 0.],\n",
       "        [0., 0., 0., 0., 0., 0., 0., 0., 0., 0.],\n",
       "        [0., 0., 0., 0., 0., 0., 0., 0., 0., 0.],\n",
       "        [0., 0., 0., 0., 0., 0., 0., 0., 0., 0.],\n",
       "        [0., 0., 0., 0., 0., 0., 0., 0., 0., 0.],\n",
       "        [0., 0., 0., 0., 0., 0., 0., 0., 0., 0.],\n",
       "        [0., 0., 0., 0., 0., 0., 0., 0., 0., 0.],\n",
       "        [0., 0., 0., 0., 0., 0., 0., 0., 0., 0.],\n",
       "        [0., 0., 0., 0., 0., 0., 0., 0., 0., 0.],\n",
       "        [0., 0., 0., 0., 0., 0., 0., 0., 0., 0.]], dtype=float32),\n",
       " array([0., 0., 0., 0., 0., 0., 0., 0., 0., 0.], dtype=float32),\n",
       " array([[1.],\n",
       "        [1.],\n",
       "        [1.],\n",
       "        [1.],\n",
       "        [1.],\n",
       "        [1.],\n",
       "        [1.],\n",
       "        [1.],\n",
       "        [1.],\n",
       "        [1.]], dtype=float32),\n",
       " array([1.], dtype=float32)]"
      ]
     },
     "execution_count": 8,
     "metadata": {},
     "output_type": "execute_result"
    }
   ],
   "source": [
    "class Linear(keras.Model):\n",
    "    def __init__(self):\n",
    "        super().__init__()\n",
    "        self.dense1 = keras.layers.Dense(\n",
    "            10, \n",
    "            activation=None, \n",
    "            kernel_initializer=tf.zeros_initializer(), \n",
    "            bias_initializer=tf.zeros_initializer()\n",
    "        )\n",
    "        self.dense2 = keras.layers.Dense(\n",
    "            1, \n",
    "            activation=None, \n",
    "            kernel_initializer=tf.ones_initializer(), \n",
    "            bias_initializer=tf.ones_initializer()\n",
    "        )\n",
    "        return \n",
    "    \n",
    "    def call(self, input):\n",
    "        output = self.dense1(input)\n",
    "        output = self.dense2(output)\n",
    "        return output\n",
    "    \n",
    "\n",
    "net = Linear()\n",
    "net(X)\n",
    "net.get_weights()"
   ]
  },
  {
   "cell_type": "code",
   "execution_count": 9,
   "metadata": {},
   "outputs": [
    {
     "data": {
      "text/plain": [
       "<tf.Variable 'sequential_1/dense_4/kernel:0' shape=(20, 64) dtype=float32, numpy=\n",
       "array([[ 0.24036343,  0.47829953, -0.38006464, ...,  0.5597388 ,\n",
       "         0.8827054 ,  0.64723325],\n",
       "       [-0.21830764,  0.32188547, -0.65738183, ...,  0.57323563,\n",
       "        -0.15507852, -1.5192586 ],\n",
       "       [-0.90530497, -1.7907901 , -2.1392267 , ...,  0.50337476,\n",
       "        -1.7393419 , -1.0711541 ],\n",
       "       ...,\n",
       "       [ 1.0067736 , -0.98213655, -0.59947723, ..., -0.51312226,\n",
       "        -0.73401594,  0.8842319 ],\n",
       "       [ 1.3668351 ,  0.03693051, -0.21830982, ..., -2.0884075 ,\n",
       "        -2.166261  , -0.00710672],\n",
       "       [ 1.1581492 , -0.6451617 , -1.4735695 , ..., -0.55111855,\n",
       "         0.9961703 , -0.6155324 ]], dtype=float32)>"
      ]
     },
     "execution_count": 9,
     "metadata": {},
     "output_type": "execute_result"
    }
   ],
   "source": [
    "def my_init():\n",
    "    return keras.initializers.RandomNormal(mean=0, stddev=1)\n",
    "\n",
    "model = keras.Sequential([\n",
    "    keras.layers.Dense(64, kernel_initializer=my_init())\n",
    "])\n",
    "\n",
    "Y = model(X)\n",
    "model.weights[0]"
   ]
  },
  {
   "cell_type": "code",
   "execution_count": null,
   "metadata": {},
   "outputs": [],
   "source": []
  }
 ],
 "metadata": {
  "kernelspec": {
   "display_name": "Python 3",
   "language": "python",
   "name": "python3"
  },
  "language_info": {
   "codemirror_mode": {
    "name": "ipython",
    "version": 3
   },
   "file_extension": ".py",
   "mimetype": "text/x-python",
   "name": "python",
   "nbconvert_exporter": "python",
   "pygments_lexer": "ipython3",
   "version": "3.7.6"
  }
 },
 "nbformat": 4,
 "nbformat_minor": 4
}
