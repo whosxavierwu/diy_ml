{
 "cells": [
  {
   "cell_type": "code",
   "execution_count": 1,
   "metadata": {},
   "outputs": [],
   "source": [
    "import numpy as np\n",
    "\n",
    "import tensorflow as tf\n",
    "from tensorflow import keras"
   ]
  },
  {
   "cell_type": "code",
   "execution_count": null,
   "metadata": {},
   "outputs": [],
   "source": []
  },
  {
   "cell_type": "code",
   "execution_count": 2,
   "metadata": {},
   "outputs": [
    {
     "data": {
      "text/plain": [
       "<tf.Variable 'Variable:0' shape=(2, 2) dtype=float32, numpy=\n",
       "array([[19., 25.],\n",
       "       [37., 43.]], dtype=float32)>"
      ]
     },
     "execution_count": 2,
     "metadata": {},
     "output_type": "execute_result"
    }
   ],
   "source": [
    "def corr2d(X, K):\n",
    "    h, w = K.shape\n",
    "    Y = tf.Variable(tf.zeros(\n",
    "        (X.shape[0] - h + 1, X.shape[1] - w + 1)\n",
    "    ))\n",
    "    for i in range(Y.shape[0]):\n",
    "        for j in range(Y.shape[1]):\n",
    "            Y[i, j].assign(tf.cast(\n",
    "                tf.reduce_sum(X[i:i+h, j:j+w] * K), \n",
    "                dtype=tf.float32\n",
    "            ))\n",
    "    return Y\n",
    "\n",
    "X = tf.constant([\n",
    "    [0, 1, 2], \n",
    "    [3, 4, 5], \n",
    "    [6, 7, 8],\n",
    "])\n",
    "K = tf.constant([\n",
    "    [0, 1], \n",
    "    [2, 3],\n",
    "])\n",
    "corr2d(X, K)"
   ]
  },
  {
   "cell_type": "code",
   "execution_count": 3,
   "metadata": {},
   "outputs": [],
   "source": [
    "class Conv2D(keras.layers.Layer):\n",
    "    def __init__(self, units):\n",
    "        super().__init__()\n",
    "        self.units = units\n",
    "        return \n",
    "    \n",
    "    def build(self, kernel_size):\n",
    "        self.W = self.add_weight(\n",
    "            name='W', \n",
    "            shape=kernel_size, \n",
    "            initializer=tf.random_normal_initializer()\n",
    "        )\n",
    "        self.b = self.add_weight(\n",
    "            name='b', \n",
    "            shape=(1,),\n",
    "            initializer=tf.zeros_initializer()\n",
    "        )\n",
    "        return \n",
    "    \n",
    "    def call(self, inputs):\n",
    "        return corr2d(inputs, self.W) + self.b\n",
    "    \n"
   ]
  },
  {
   "cell_type": "code",
   "execution_count": 4,
   "metadata": {},
   "outputs": [
    {
     "name": "stdout",
     "output_type": "stream",
     "text": [
      "<tf.Variable 'Variable:0' shape=(6, 8) dtype=float32, numpy=\n",
      "array([[1., 1., 0., 0., 0., 0., 1., 1.],\n",
      "       [1., 1., 0., 0., 0., 0., 1., 1.],\n",
      "       [1., 1., 0., 0., 0., 0., 1., 1.],\n",
      "       [1., 1., 0., 0., 0., 0., 1., 1.],\n",
      "       [1., 1., 0., 0., 0., 0., 1., 1.],\n",
      "       [1., 1., 0., 0., 0., 0., 1., 1.]], dtype=float32)>\n",
      "tf.Tensor([[ 1. -1.]], shape=(1, 2), dtype=float32)\n",
      "<tf.Variable 'Variable:0' shape=(6, 7) dtype=float32, numpy=\n",
      "array([[ 0.,  1.,  0.,  0.,  0., -1.,  0.],\n",
      "       [ 0.,  1.,  0.,  0.,  0., -1.,  0.],\n",
      "       [ 0.,  1.,  0.,  0.,  0., -1.,  0.],\n",
      "       [ 0.,  1.,  0.,  0.,  0., -1.,  0.],\n",
      "       [ 0.,  1.,  0.,  0.,  0., -1.,  0.],\n",
      "       [ 0.,  1.,  0.,  0.,  0., -1.,  0.]], dtype=float32)>\n"
     ]
    }
   ],
   "source": [
    "# edge detection\n",
    "X = tf.Variable(tf.ones((6, 8)))\n",
    "X[:, 2:6].assign(tf.zeros(X[:, 2:6].shape))\n",
    "print(X)\n",
    "\n",
    "K = tf.constant([\n",
    "    [1.0, -1.0]\n",
    "])\n",
    "print(K)\n",
    "\n",
    "Y = corr2d(X, K)\n",
    "print(Y)"
   ]
  },
  {
   "cell_type": "code",
   "execution_count": null,
   "metadata": {},
   "outputs": [],
   "source": []
  },
  {
   "cell_type": "code",
   "execution_count": 5,
   "metadata": {},
   "outputs": [
    {
     "data": {
      "text/plain": [
       "TensorShape([1, 6, 7, 1])"
      ]
     },
     "execution_count": 5,
     "metadata": {},
     "output_type": "execute_result"
    }
   ],
   "source": [
    "X = tf.reshape(X, (1, 6, 8, 1))\n",
    "Y = tf.reshape(Y, (1, 6, 7, 1))\n",
    "\n",
    "Y.shape"
   ]
  },
  {
   "cell_type": "code",
   "execution_count": 6,
   "metadata": {},
   "outputs": [
    {
     "name": "stdout",
     "output_type": "stream",
     "text": [
      "batch 1, loss 34.928\n",
      "batch 2, loss 15.513\n",
      "batch 3, loss 7.127\n",
      "batch 4, loss 3.414\n",
      "batch 5, loss 1.715\n",
      "batch 6, loss 0.905\n",
      "batch 7, loss 0.500\n",
      "batch 8, loss 0.288\n",
      "batch 9, loss 0.171\n",
      "batch 10, loss 0.104\n"
     ]
    }
   ],
   "source": [
    "conv2d = keras.layers.Conv2D(filters=1, kernel_size=(1, 2))\n",
    "Y_pred = conv2d(X)\n",
    "for i in range(10):\n",
    "    with tf.GradientTape(watch_accessed_variables=False) as tape:\n",
    "        tape.watch(conv2d.weights[0])\n",
    "        Y_pred = conv2d(X)\n",
    "        loss1 = (abs(Y_pred - Y)) ** 2\n",
    "        grad = tape.gradient(loss1, conv2d.weights[0])\n",
    "        lr = 3e-2\n",
    "        update = lr * grad\n",
    "        updated_weights = conv2d.get_weights()\n",
    "        updated_weights[0] = conv2d.weights[0] - update\n",
    "        conv2d.set_weights(updated_weights)\n",
    "        print('batch %d, loss %.3f' % (i+1, tf.reduce_sum(loss1)))\n"
   ]
  },
  {
   "cell_type": "code",
   "execution_count": 7,
   "metadata": {},
   "outputs": [
    {
     "data": {
      "text/plain": [
       "<tf.Tensor: shape=(1, 2), dtype=float32, numpy=array([[ 0.95013607, -1.0135953 ]], dtype=float32)>"
      ]
     },
     "execution_count": 7,
     "metadata": {},
     "output_type": "execute_result"
    }
   ],
   "source": [
    "tf.reshape(conv2d.get_weights()[0],(1,2))\n"
   ]
  },
  {
   "cell_type": "code",
   "execution_count": null,
   "metadata": {},
   "outputs": [],
   "source": []
  },
  {
   "cell_type": "code",
   "execution_count": 12,
   "metadata": {},
   "outputs": [
    {
     "name": "stdout",
     "output_type": "stream",
     "text": [
      "(8, 8)\n",
      "(4, 4)\n",
      "(2, 1)\n"
     ]
    }
   ],
   "source": [
    "# try padding\n",
    "def comp_conv2d(conv2d, X):\n",
    "    # shape should be: (samples, rows, cols, channels)\n",
    "    X = tf.reshape(X, [1] + X.shape + [1])\n",
    "    Y = conv2d(X)\n",
    "    return tf.reshape(Y, Y.shape[1:3])\n",
    "\n",
    "conv2d = keras.layers.Conv2D(1, kernel_size=3, padding='same')\n",
    "X = tf.random.uniform([8, 8])\n",
    "print(comp_conv2d(conv2d, X).shape)\n",
    "\n",
    "# input: (nh, nw)\n",
    "# kernel: (kh, kw)\n",
    "# normally output: (nh-kh+1, nw-kw+1)\n",
    "# padding output: (nh-kh+ph+1, nw-kw+pw+1)\n",
    "# stride output: ( (nh-kh+ph+sh)/sh, (nw-kw+pw+sw)/sw )\n",
    "conv2d = keras.layers.Conv2D(\n",
    "    1, \n",
    "    kernel_size=3, \n",
    "    padding='same', \n",
    "    strides=2\n",
    ")\n",
    "print(comp_conv2d(conv2d, X).shape)\n",
    "\n",
    "\n",
    "conv2d = tf.keras.layers.Conv2D(1, kernel_size=(3,5), padding='valid', strides=(3,4))\n",
    "print(comp_conv2d(conv2d, X).shape)\n"
   ]
  },
  {
   "cell_type": "code",
   "execution_count": null,
   "metadata": {},
   "outputs": [],
   "source": []
  },
  {
   "cell_type": "code",
   "execution_count": 27,
   "metadata": {},
   "outputs": [
    {
     "name": "stdout",
     "output_type": "stream",
     "text": [
      "(2, 3, 3) (2, 2, 2)\n",
      "<tf.Variable 'Variable:0' shape=(2, 2) dtype=float32, numpy=\n",
      "array([[ 4.,  6.],\n",
      "       [10., 12.]], dtype=float32)>\n",
      "<tf.Variable 'Variable:0' shape=(2, 2) dtype=float32, numpy=\n",
      "array([[ 6.,  8.],\n",
      "       [12., 14.]], dtype=float32)>\n"
     ]
    },
    {
     "data": {
      "text/plain": [
       "<tf.Tensor: shape=(2, 2), dtype=float32, numpy=\n",
       "array([[10., 14.],\n",
       "       [22., 26.]], dtype=float32)>"
      ]
     },
     "execution_count": 27,
     "metadata": {},
     "output_type": "execute_result"
    }
   ],
   "source": [
    "def corr2d(X, K):\n",
    "    kh, kw = K.shape\n",
    "    if len(X.shape) <= 1:\n",
    "        X = tf.reshape(X, [X.shape[0], 1])\n",
    "    Y = tf.Variable(tf.zeros([X.shape[0] - kh + 1, X.shape[1] - kw + 1]))\n",
    "    for i in range(Y.shape[0]):\n",
    "        for j in range(Y.shape[1]):\n",
    "            Y[i,j].assign(\n",
    "                tf.cast(\n",
    "                    tf.reduce_sum(X[i:i+kh, j:j+kw] * K), \n",
    "                    dtype=tf.float32\n",
    "                )\n",
    "            )\n",
    "    return Y\n",
    "\n",
    "def corr2d_multi_in(X, K):\n",
    "    for i in range(X.shape[0]):\n",
    "        print(corr2d(X[i], K[i]))\n",
    "    return tf.reduce_sum([\n",
    "        corr2d(X[i], K[i])\n",
    "        for i in range(X.shape[0])\n",
    "    ], axis=0) \n",
    "\n",
    "X = tf.constant([\n",
    "    [\n",
    "        [0,1,2],\n",
    "        [3,4,5],\n",
    "        [6,7,8]\n",
    "    ],\n",
    "    [\n",
    "        [1,2,3],\n",
    "        [4,5,6],\n",
    "        [7,8,9]\n",
    "    ]\n",
    "])  \n",
    "\n",
    "K = tf.constant([\n",
    "    [\n",
    "        [0,1],\n",
    "        [1,0]\n",
    "    ],\n",
    "    [\n",
    "        [1,0],\n",
    "        [0,1]\n",
    "    ]\n",
    "])\n",
    "print(X.shape, K.shape)\n",
    "\n",
    "corr2d_multi_in(X, K)"
   ]
  },
  {
   "cell_type": "code",
   "execution_count": 29,
   "metadata": {},
   "outputs": [
    {
     "name": "stdout",
     "output_type": "stream",
     "text": [
      "<tf.Variable 'Variable:0' shape=(2, 2) dtype=float32, numpy=\n",
      "array([[ 4.,  6.],\n",
      "       [10., 12.]], dtype=float32)>\n",
      "<tf.Variable 'Variable:0' shape=(2, 2) dtype=float32, numpy=\n",
      "array([[ 6.,  8.],\n",
      "       [12., 14.]], dtype=float32)>\n",
      "<tf.Variable 'Variable:0' shape=(2, 2) dtype=float32, numpy=\n",
      "array([[12., 18.],\n",
      "       [30., 36.]], dtype=float32)>\n",
      "<tf.Variable 'Variable:0' shape=(2, 2) dtype=float32, numpy=\n",
      "array([[18., 24.],\n",
      "       [36., 42.]], dtype=float32)>\n",
      "<tf.Variable 'Variable:0' shape=(2, 2) dtype=float32, numpy=\n",
      "array([[20., 30.],\n",
      "       [50., 60.]], dtype=float32)>\n",
      "<tf.Variable 'Variable:0' shape=(2, 2) dtype=float32, numpy=\n",
      "array([[30., 40.],\n",
      "       [60., 70.]], dtype=float32)>\n"
     ]
    },
    {
     "data": {
      "text/plain": [
       "<tf.Tensor: shape=(3, 2, 2), dtype=float32, numpy=\n",
       "array([[[ 10.,  14.],\n",
       "        [ 22.,  26.]],\n",
       "\n",
       "       [[ 30.,  42.],\n",
       "        [ 66.,  78.]],\n",
       "\n",
       "       [[ 50.,  70.],\n",
       "        [110., 130.]]], dtype=float32)>"
      ]
     },
     "execution_count": 29,
     "metadata": {},
     "output_type": "execute_result"
    }
   ],
   "source": [
    "def corr2d_multi_in_out(X, K):\n",
    "    return tf.stack(\n",
    "        [corr2d_multi_in(X, k) for k in K], \n",
    "        axis=0\n",
    "    )\n",
    "\n",
    "# K = tf.stack([K, K+1, K+2], axis=0)\n",
    "# print(K.shape)\n",
    "corr2d_multi_in_out(X, [K, K+1, K+2])"
   ]
  },
  {
   "cell_type": "code",
   "execution_count": 31,
   "metadata": {},
   "outputs": [
    {
     "name": "stdout",
     "output_type": "stream",
     "text": [
      "<tf.Variable 'Variable:0' shape=(3, 3) dtype=float32, numpy=\n",
      "array([[0.2556957 , 0.13596115, 0.3563068 ],\n",
      "       [0.42687646, 0.09416759, 0.37894204],\n",
      "       [0.30151868, 0.37034634, 0.55749667]], dtype=float32)>\n",
      "<tf.Variable 'Variable:0' shape=(3, 3) dtype=float32, numpy=\n",
      "array([[0.09723694, 0.17561707, 0.35297734],\n",
      "       [0.31168556, 0.26599225, 0.02346409],\n",
      "       [0.16807643, 0.24897598, 0.21953052]], dtype=float32)>\n",
      "<tf.Variable 'Variable:0' shape=(3, 3) dtype=float32, numpy=\n",
      "array([[0.24050224, 0.11232375, 0.08895671],\n",
      "       [0.13278887, 0.08720583, 0.28041792],\n",
      "       [0.20423491, 0.05328164, 0.05286534]], dtype=float32)>\n",
      "<tf.Variable 'Variable:0' shape=(3, 3) dtype=float32, numpy=\n",
      "array([[0.3590972 , 0.19094285, 0.5003947 ],\n",
      "       [0.59950227, 0.1322483 , 0.53218347],\n",
      "       [0.42345068, 0.52011174, 0.78294426]], dtype=float32)>\n",
      "<tf.Variable 'Variable:0' shape=(3, 3) dtype=float32, numpy=\n",
      "array([[0.12584777, 0.22729035, 0.45683682],\n",
      "       [0.4033954 , 0.34425735, 0.03036813],\n",
      "       [0.21753095, 0.32223424, 0.28412482]], dtype=float32)>\n",
      "<tf.Variable 'Variable:0' shape=(3, 3) dtype=float32, numpy=\n",
      "array([[0.0991237 , 0.04629456, 0.03666377],\n",
      "       [0.05472932, 0.03594214, 0.11557507],\n",
      "       [0.08417602, 0.02196018, 0.0217886 ]], dtype=float32)>\n"
     ]
    },
    {
     "data": {
      "text/plain": [
       "<tf.Tensor: shape=(), dtype=bool, numpy=True>"
      ]
     },
     "execution_count": 31,
     "metadata": {},
     "output_type": "execute_result"
    }
   ],
   "source": [
    "def corr2d_multi_in_out_1x1(X, K):\n",
    "    c_i, h, w = X.shape\n",
    "    c_o = K.shape[0]\n",
    "    X = tf.reshape(X, [c_i, h*w])\n",
    "    K = tf.reshape(K, [c_o, c_i])\n",
    "    Y = tf.matmul(K, X)\n",
    "    return tf.reshape(Y, [c_o, h, w])\n",
    "\n",
    "X = tf.random.uniform((3,3,3))\n",
    "K = tf.random.uniform((2,3,1,1))\n",
    "\n",
    "Y1 = corr2d_multi_in_out_1x1(X, K)\n",
    "Y2 = corr2d_multi_in_out(X, K)\n",
    "\n",
    "tf.norm(Y1-Y2) < 1e-6\n"
   ]
  },
  {
   "cell_type": "code",
   "execution_count": null,
   "metadata": {},
   "outputs": [],
   "source": []
  },
  {
   "cell_type": "code",
   "execution_count": null,
   "metadata": {},
   "outputs": [],
   "source": []
  },
  {
   "cell_type": "code",
   "execution_count": 34,
   "metadata": {},
   "outputs": [
    {
     "name": "stdout",
     "output_type": "stream",
     "text": [
      "<tf.Variable 'Variable:0' shape=(2, 2) dtype=float32, numpy=\n",
      "array([[4., 5.],\n",
      "       [7., 8.]], dtype=float32)>\n",
      "<tf.Variable 'Variable:0' shape=(2, 2) dtype=float32, numpy=\n",
      "array([[2., 3.],\n",
      "       [5., 6.]], dtype=float32)>\n"
     ]
    }
   ],
   "source": [
    "def pool2d(X, pool_size, mode='max'):\n",
    "    ph, pw = pool_size\n",
    "    Y = tf.zeros([X.shape[0] - ph + 1, X.shape[1] - pw + 1])\n",
    "    Y = tf.Variable(Y)\n",
    "    for i in range(Y.shape[0]):\n",
    "        for j in range(Y.shape[1]):\n",
    "            if mode == 'max':\n",
    "                Y[i, j].assign(tf.reduce_max(X[i:i+ph, j:j+pw]))\n",
    "            elif mode=='avg':\n",
    "                Y[i, j].assign(tf.reduce_mean(X[i:i+ph, j:j+pw]))\n",
    "    return Y\n",
    "\n",
    "X = tf.constant([\n",
    "    [0,1,2],\n",
    "    [3,4,5],\n",
    "    [6,7,8]\n",
    "],dtype=tf.float32)\n",
    "print(pool2d(X, (2,2), mode='max'))\n",
    "print(pool2d(X, (2,2), mode='avg'))"
   ]
  },
  {
   "cell_type": "code",
   "execution_count": 38,
   "metadata": {},
   "outputs": [
    {
     "name": "stdout",
     "output_type": "stream",
     "text": [
      "tf.Tensor([[[[10]]]], shape=(1, 1, 1, 1), dtype=int32)\n",
      "tf.Tensor(\n",
      "[[[[10]\n",
      "   [11]]\n",
      "\n",
      "  [[14]\n",
      "   [15]]]], shape=(1, 2, 2, 1), dtype=int32)\n"
     ]
    },
    {
     "data": {
      "text/plain": [
       "<tf.Tensor: shape=(2, 2, 2, 1), dtype=int32, numpy=\n",
       "array([[[[ 5],\n",
       "         [ 6]],\n",
       "\n",
       "        [[ 7],\n",
       "         [ 8]]],\n",
       "\n",
       "\n",
       "       [[[13],\n",
       "         [14]],\n",
       "\n",
       "        [[15],\n",
       "         [16]]]])>"
      ]
     },
     "execution_count": 38,
     "metadata": {},
     "output_type": "execute_result"
    }
   ],
   "source": [
    "#tensorflow default data_format == 'channels_last'\n",
    "#so (1,4,4,1) instead of (1,1,4,4)\n",
    "X = tf.reshape(tf.constant(range(16)), (1,4,4,1))\n",
    "\n",
    "pool2d = keras.layers.MaxPool2D(pool_size=[3,3])\n",
    "print(pool2d(X))\n",
    "\n",
    "#I guess no custom padding settings in keras.layers?\n",
    "pool2d = keras.layers.MaxPool2D(pool_size=[3,3],padding='same',strides=2)\n",
    "print(pool2d(X))\n",
    "\n",
    "X = tf.stack([X, X+1], axis=3)\n",
    "X = tf.reshape(X, (2,4,4,1))\n",
    "\n",
    "pool2d = keras.layers.MaxPool2D(3, padding='same', strides=2)\n",
    "pool2d(X)\n"
   ]
  },
  {
   "cell_type": "code",
   "execution_count": null,
   "metadata": {},
   "outputs": [],
   "source": []
  },
  {
   "cell_type": "code",
   "execution_count": null,
   "metadata": {},
   "outputs": [],
   "source": []
  }
 ],
 "metadata": {
  "kernelspec": {
   "display_name": "Python 3",
   "language": "python",
   "name": "python3"
  },
  "language_info": {
   "codemirror_mode": {
    "name": "ipython",
    "version": 3
   },
   "file_extension": ".py",
   "mimetype": "text/x-python",
   "name": "python",
   "nbconvert_exporter": "python",
   "pygments_lexer": "ipython3",
   "version": "3.7.6"
  }
 },
 "nbformat": 4,
 "nbformat_minor": 4
}
