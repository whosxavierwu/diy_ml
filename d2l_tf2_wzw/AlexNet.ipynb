{
 "cells": [
  {
   "cell_type": "code",
   "execution_count": 1,
   "metadata": {},
   "outputs": [],
   "source": [
    "import numpy as np\n",
    "\n",
    "import tensorflow as tf\n",
    "from tensorflow import keras\n",
    "from tensorflow.keras import layers"
   ]
  },
  {
   "cell_type": "code",
   "execution_count": 2,
   "metadata": {},
   "outputs": [],
   "source": [
    "for gpu in tf.config.experimental.list_physical_devices('GPU'):\n",
    "    tf.config.experimental.set_memory_growth(gpu, True)"
   ]
  },
  {
   "cell_type": "code",
   "execution_count": 3,
   "metadata": {},
   "outputs": [],
   "source": [
    "net = keras.Sequential([\n",
    "    # conv 1\n",
    "    layers.Conv2D(96, kernel_size=11, strides=4, activation='relu'), \n",
    "    layers.MaxPool2D(pool_size=3, strides=2), \n",
    "    # conv 2\n",
    "    layers.Conv2D(256, kernel_size=5, padding='same', activation='relu'), \n",
    "    layers.MaxPool2D(pool_size=3, strides=2), \n",
    "    # conv 3 4 5 \n",
    "    layers.Conv2D(384, kernel_size=3, padding='same', activation='relu'), \n",
    "    layers.Conv2D(384, kernel_size=3, padding='same', activation='relu'), \n",
    "    layers.Conv2D(256, kernel_size=3, padding='same', activation='relu'), \n",
    "    layers.MaxPool2D(pool_size=3, strides=2), \n",
    "    # dense \n",
    "    layers.Flatten(), \n",
    "    layers.Dense(4096, activation='relu'), \n",
    "    layers.Dropout(0.5), \n",
    "    layers.Dense(4096, activation='relu'), \n",
    "    layers.Dropout(0.5), \n",
    "    layers.Dense(10, activation='sigmoid'),\n",
    "])"
   ]
  },
  {
   "cell_type": "code",
   "execution_count": 6,
   "metadata": {},
   "outputs": [
    {
     "name": "stdout",
     "output_type": "stream",
     "text": [
      "conv2d output shape\t (1, 54, 54, 96)\n",
      "max_pooling2d output shape\t (1, 26, 26, 96)\n",
      "conv2d_1 output shape\t (1, 26, 26, 256)\n",
      "max_pooling2d_1 output shape\t (1, 12, 12, 256)\n",
      "conv2d_2 output shape\t (1, 12, 12, 384)\n",
      "conv2d_3 output shape\t (1, 12, 12, 384)\n",
      "conv2d_4 output shape\t (1, 12, 12, 256)\n",
      "max_pooling2d_2 output shape\t (1, 5, 5, 256)\n",
      "flatten output shape\t (1, 6400)\n",
      "dense output shape\t (1, 4096)\n",
      "dropout output shape\t (1, 4096)\n",
      "dense_1 output shape\t (1, 4096)\n",
      "dropout_1 output shape\t (1, 4096)\n",
      "dense_2 output shape\t (1, 10)\n"
     ]
    }
   ],
   "source": [
    "# print(net.summary())\n",
    "\n",
    "X = tf.random.uniform((1,224,224,1))\n",
    "for layer in net.layers:\n",
    "    X = layer(X)\n",
    "    print(layer.name, 'output shape\\t', X.shape)\n"
   ]
  },
  {
   "cell_type": "code",
   "execution_count": 7,
   "metadata": {},
   "outputs": [
    {
     "name": "stdout",
     "output_type": "stream",
     "text": [
      "x_batch shape: (128, 224, 224, 1) y_batch shape: (128,)\n"
     ]
    }
   ],
   "source": [
    "class DataLoader():\n",
    "    def __init__(self):\n",
    "        fashion_mnist = tf.keras.datasets.fashion_mnist\n",
    "        (self.X_train, self.y_train), (self.X_test, self.y_test) = fashion_mnist.load_data()\n",
    "        self.X_train = np.expand_dims(self.X_train.astype(np.float32)/255.0,axis=-1)\n",
    "        self.X_test = np.expand_dims(self.X_test.astype(np.float32)/255.0,axis=-1)\n",
    "        self.y_train = self.y_train.astype(np.int32)\n",
    "        self.y_test = self.y_test.astype(np.int32)\n",
    "        self.num_train, self.num_test = self.X_train.shape[0], self.X_test.shape[0]\n",
    "\n",
    "    def get_batch_train(self, batch_size):\n",
    "        index = np.random.randint(0, self.num_train, batch_size)\n",
    "        #need to resize images to (224,224)\n",
    "        resized_images = tf.image.resize_with_pad(self.X_train[index],224,224,)\n",
    "        return resized_images.numpy(), self.y_train[index]\n",
    "\n",
    "    def get_batch_test(self, batch_size):\n",
    "        index = np.random.randint(0, self.num_test, batch_size)\n",
    "        #need to resize images to (224,224)\n",
    "        resized_images = tf.image.resize_with_pad(self.X_test[index],224,224,)\n",
    "        return resized_images.numpy(), self.y_test[index]\n",
    "\n",
    "batch_size = 128\n",
    "dataLoader = DataLoader()\n",
    "x_batch, y_batch = dataLoader.get_batch_train(batch_size)\n",
    "print(\"x_batch shape:\",x_batch.shape,\"y_batch shape:\", y_batch.shape)\n"
   ]
  },
  {
   "cell_type": "code",
   "execution_count": null,
   "metadata": {},
   "outputs": [],
   "source": [
    "net.compile(\n",
    "    optimizer=keras.optimizers.SGD(\n",
    "        learning_rate=0.01, momentum=0.0, nesterov=False\n",
    "    ), \n",
    "    loss='sparse_categorical_crossentropy', \n",
    "    metrics=['accuracy']\n",
    ")\n",
    "\n",
    "epochs = 10\n",
    "num_iter = dataLoader.num_train // batch_size\n",
    "\n",
    "for ep in range(epochs):\n",
    "    for n in range(num_iter):\n",
    "        X_batch, y_batch = dataLoader.get_batch_train(batch_size)\n",
    "        net.fit(X_batch, y_batch)\n",
    "#         if n % 20 == 0:\n",
    "#             net.save_weights(\"alexnet_weights.h5\")\n"
   ]
  },
  {
   "cell_type": "code",
   "execution_count": 10,
   "metadata": {},
   "outputs": [
    {
     "name": "stdout",
     "output_type": "stream",
     "text": [
      "2000/2000 - 2s - loss: 0.2627 - accuracy: 0.9165\n"
     ]
    },
    {
     "data": {
      "text/plain": [
       "[0.26265823233127594, 0.9165]"
      ]
     },
     "execution_count": 10,
     "metadata": {},
     "output_type": "execute_result"
    }
   ],
   "source": [
    "net.load_weights(\"alexnet_weights.h5\")\n",
    "X_test, y_test = dataLoader.get_batch_test(2000)\n",
    "net.evaluate(X_test, y_test, verbose=2)"
   ]
  },
  {
   "cell_type": "code",
   "execution_count": null,
   "metadata": {},
   "outputs": [],
   "source": []
  }
 ],
 "metadata": {
  "kernelspec": {
   "display_name": "Python 3",
   "language": "python",
   "name": "python3"
  },
  "language_info": {
   "codemirror_mode": {
    "name": "ipython",
    "version": 3
   },
   "file_extension": ".py",
   "mimetype": "text/x-python",
   "name": "python",
   "nbconvert_exporter": "python",
   "pygments_lexer": "ipython3",
   "version": "3.7.6"
  }
 },
 "nbformat": 4,
 "nbformat_minor": 4
}
