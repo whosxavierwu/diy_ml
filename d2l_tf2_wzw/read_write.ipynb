{
 "cells": [
  {
   "cell_type": "code",
   "execution_count": 1,
   "metadata": {},
   "outputs": [],
   "source": [
    "import numpy as np\n",
    "\n",
    "import tensorflow as tf\n",
    "from tensorflow import keras"
   ]
  },
  {
   "cell_type": "code",
   "execution_count": 4,
   "metadata": {},
   "outputs": [
    {
     "name": "stdout",
     "output_type": "stream",
     "text": [
      "tf.Tensor([1. 1. 1.], shape=(3,), dtype=float32)\n",
      "[1. 1. 1.]\n"
     ]
    }
   ],
   "source": [
    "x = tf.ones(3)\n",
    "print(x)\n",
    "np.save('x.npy', x)\n",
    "x2 = np.load('x.npy')\n",
    "print(x2)\n",
    "# note, the type of x is changed!"
   ]
  },
  {
   "cell_type": "code",
   "execution_count": 5,
   "metadata": {},
   "outputs": [
    {
     "name": "stdout",
     "output_type": "stream",
     "text": [
      "tf.Tensor([0. 0. 0. 0.], shape=(4,), dtype=float32)\n",
      "tf.Tensor([1. 1. 1.], shape=(3,), dtype=float32) tf.Tensor([0. 0. 0. 0.], shape=(4,), dtype=float32)\n"
     ]
    }
   ],
   "source": [
    "y = tf.zeros(4)\n",
    "print(y)\n",
    "np.save('xy.npy', [x, y])\n",
    "x2, y2 = np.load('xy.npy', allow_pickle=True)\n",
    "print(x2, y2)"
   ]
  },
  {
   "cell_type": "code",
   "execution_count": 6,
   "metadata": {},
   "outputs": [
    {
     "name": "stdout",
     "output_type": "stream",
     "text": [
      "{'x': <tf.Tensor: shape=(3,), dtype=float32, numpy=array([1., 1., 1.], dtype=float32)>, 'y': <tf.Tensor: shape=(4,), dtype=float32, numpy=array([0., 0., 0., 0.], dtype=float32)>}\n",
      "{'x': <tf.Tensor: shape=(3,), dtype=float32, numpy=array([1., 1., 1.], dtype=float32)>, 'y': <tf.Tensor: shape=(4,), dtype=float32, numpy=array([0., 0., 0., 0.], dtype=float32)>}\n"
     ]
    }
   ],
   "source": [
    "mydict = {'x': x, 'y': y}\n",
    "print(mydict)\n",
    "np.save('mydict.npy', mydict)\n",
    "mydict2 = np.load('mydict.npy', allow_pickle=True)\n",
    "print(mydict2)"
   ]
  },
  {
   "cell_type": "code",
   "execution_count": 7,
   "metadata": {},
   "outputs": [
    {
     "data": {
      "text/plain": [
       "<tf.Tensor: shape=(2, 20), dtype=float32, numpy=\n",
       "array([[-0.1864463 ,  1.4906099 ,  0.5541363 ,  0.50990313, -0.6435264 ,\n",
       "        -0.3418649 , -2.0856988 , -2.0475845 , -1.238561  ,  0.7540927 ,\n",
       "         0.00759145,  1.6143966 , -0.50413257,  0.93690264, -0.10574176,\n",
       "        -0.95915854,  1.3396138 , -1.1505126 , -0.6174389 ,  1.6708024 ],\n",
       "       [-0.8716607 ,  1.4372253 , -0.30837473,  1.3532407 ,  1.9044393 ,\n",
       "         0.99466044,  1.011839  , -0.9841923 ,  0.5400025 , -0.5009951 ,\n",
       "        -1.6027278 ,  0.42598578,  0.3423161 , -0.1074597 , -0.01818134,\n",
       "        -1.1657822 ,  0.73858696,  0.88828987, -0.6858334 ,  1.7399089 ]],\n",
       "      dtype=float32)>"
      ]
     },
     "execution_count": 7,
     "metadata": {},
     "output_type": "execute_result"
    }
   ],
   "source": [
    "X = tf.random.normal((2, 20))\n",
    "X"
   ]
  },
  {
   "cell_type": "code",
   "execution_count": 8,
   "metadata": {},
   "outputs": [
    {
     "data": {
      "text/plain": [
       "<tf.Tensor: shape=(2, 10), dtype=float32, numpy=\n",
       "array([[ 0.7526683 ,  0.48577106, -0.48203462, -0.19467896,  1.309917  ,\n",
       "        -0.41784984,  0.5457507 ,  0.01562104, -0.49980903, -0.9944354 ],\n",
       "       [-0.02583791,  0.14008805, -0.7950773 ,  0.3524654 ,  0.944246  ,\n",
       "        -0.44997597,  0.49161488,  0.20933273, -0.7144593 , -0.14319213]],\n",
       "      dtype=float32)>"
      ]
     },
     "execution_count": 8,
     "metadata": {},
     "output_type": "execute_result"
    }
   ],
   "source": [
    "class MLP(keras.Model):\n",
    "    def __init__(self):\n",
    "        super().__init__()\n",
    "        self.flatten = keras.layers.Flatten()\n",
    "        self.dense1 = keras.layers.Dense(256, activation='relu')\n",
    "        self.dense2 = keras.layers.Dense(10)\n",
    "        return \n",
    "    \n",
    "    def call(self, inputs):\n",
    "        X = self.flatten(inputs)\n",
    "        X = self.dense1(X)\n",
    "        output = self.dense2(X)\n",
    "        return output\n",
    "    \n",
    "net = MLP()\n",
    "Y = net(X)\n",
    "Y"
   ]
  },
  {
   "cell_type": "code",
   "execution_count": 9,
   "metadata": {},
   "outputs": [],
   "source": [
    "net.save_weights(\"tmp_saved_model.h5\")"
   ]
  },
  {
   "cell_type": "code",
   "execution_count": 12,
   "metadata": {},
   "outputs": [
    {
     "data": {
      "text/plain": [
       "<tf.Tensor: shape=(2, 10), dtype=bool, numpy=\n",
       "array([[ True,  True,  True,  True,  True,  True,  True,  True,  True,\n",
       "         True],\n",
       "       [ True,  True,  True,  True,  True,  True,  True,  True,  True,\n",
       "         True]])>"
      ]
     },
     "execution_count": 12,
     "metadata": {},
     "output_type": "execute_result"
    }
   ],
   "source": [
    "net2 = MLP()\n",
    "net2(X)\n",
    "net2.load_weights(\"tmp_saved_model.h5\")\n",
    "Y2 = net2(X)\n",
    "Y2 == Y"
   ]
  },
  {
   "cell_type": "code",
   "execution_count": null,
   "metadata": {},
   "outputs": [],
   "source": []
  }
 ],
 "metadata": {
  "kernelspec": {
   "display_name": "Python 3",
   "language": "python",
   "name": "python3"
  },
  "language_info": {
   "codemirror_mode": {
    "name": "ipython",
    "version": 3
   },
   "file_extension": ".py",
   "mimetype": "text/x-python",
   "name": "python",
   "nbconvert_exporter": "python",
   "pygments_lexer": "ipython3",
   "version": "3.7.6"
  }
 },
 "nbformat": 4,
 "nbformat_minor": 4
}
