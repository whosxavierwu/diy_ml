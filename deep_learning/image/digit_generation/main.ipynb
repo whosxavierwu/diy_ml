{
 "cells": [
  {
   "cell_type": "code",
   "execution_count": 1,
   "metadata": {},
   "outputs": [
    {
     "name": "stderr",
     "output_type": "stream",
     "text": [
      "Using TensorFlow backend.\n"
     ]
    }
   ],
   "source": [
    "import numpy as np\n",
    "from matplotlib import pyplot as plt\n",
    "import os\n",
    "import pickle\n",
    "\n",
    "import tensorflow as tf\n",
    "# from tensorflow.keras import datasets as K_datasets\n",
    "# from tensorflow.keras import models as K_models\n",
    "# from tensorflow.keras import layers as K_layers\n",
    "# from tensorflow.keras import utils as K_utils\n",
    "# from tensorflow.keras import optimizers as K_optimizers\n",
    "# from tensorflow.keras import backend as K_backend\n",
    "\n",
    "# Inputs to eager execution function cannot be Keras symbolic tensors\n",
    "from keras import datasets as K_datasets\n",
    "from keras import models as K_models\n",
    "from keras import layers as K_layers\n",
    "from keras import utils as K_utils\n",
    "from keras import optimizers as K_optimizers\n",
    "from keras import backend as K_backend"
   ]
  },
  {
   "cell_type": "code",
   "execution_count": 2,
   "metadata": {},
   "outputs": [
    {
     "name": "stdout",
     "output_type": "stream",
     "text": [
      "(60000, 28, 28, 1) (60000,) (10000, 28, 28, 1) (10000,)\n"
     ]
    }
   ],
   "source": [
    "def load_mnist():\n",
    "    (x_train, y_train), (x_test, y_test) = K_datasets.mnist.load_data()\n",
    "\n",
    "    x_train = x_train.astype('float32') / 255.\n",
    "    x_train = x_train.reshape(x_train.shape + (1,))\n",
    "    x_test = x_test.astype('float32') / 255.\n",
    "    x_test = x_test.reshape(x_test.shape + (1,))\n",
    "\n",
    "    return (x_train, y_train), (x_test, y_test)\n",
    "(X_train, y_train), (X_test, y_test) = load_mnist()\n",
    "print(X_train.shape, y_train.shape, X_test.shape, y_test.shape)"
   ]
  },
  {
   "cell_type": "code",
   "execution_count": 3,
   "metadata": {},
   "outputs": [],
   "source": [
    "from Autoencoder import Autoencoder\n",
    "vae = Autoencoder(\n",
    "        input_dim=[28, 28, 1],\n",
    "        encoder_conv_settings=[\n",
    "            [32, 3, 1],\n",
    "            [64, 3, 2],\n",
    "            [64, 3, 2],\n",
    "            [64, 3, 1],\n",
    "        ],\n",
    "        decoder_conv_settings=[\n",
    "            [64, 3, 1],\n",
    "            [64, 3, 2],\n",
    "            [32, 3, 2],\n",
    "            [1, 3, 1],\n",
    "        ],\n",
    "        z_dim=2, \n",
    "    is_variational=True\n",
    "    )\n",
    "vae.compile(0.0005, 1000)"
   ]
  },
  {
   "cell_type": "code",
   "execution_count": 4,
   "metadata": {},
   "outputs": [
    {
     "name": "stdout",
     "output_type": "stream",
     "text": [
      "Epoch 1/3\n",
      "60000/60000 [==============================] - 112s 2ms/step - loss: 58.5419 - __r_loss: 0.0553 - __kl_loss: 3.2363 2s - loss:\n",
      "\n",
      "Epoch 00001: saving model to tmp\\weights/weights-001-58.54.h5\n",
      "\n",
      "Epoch 00001: saving model to tmp\\weights/weights.h5\n",
      "Epoch 2/3\n",
      "60000/60000 [==============================] - 122s 2ms/step - loss: 51.5442 - __r_loss: 0.0475 - __kl_loss: 4.0082\n",
      "\n",
      "Epoch 00002: saving model to tmp\\weights/weights-002-51.54.h5\n",
      "\n",
      "Epoch 00002: saving model to tmp\\weights/weights.h5\n",
      "Epoch 3/3\n",
      "60000/60000 [==============================] - 119s 2ms/step - loss: 49.9403 - __r_loss: 0.0456 - __kl_loss: 4.3401\n",
      "\n",
      "Epoch 00003: saving model to tmp\\weights/weights-003-49.94.h5\n",
      "\n",
      "Epoch 00003: saving model to tmp\\weights/weights.h5\n"
     ]
    }
   ],
   "source": [
    "vae.train(X_train, batch_size=32, epochs=3, run_folder='tmp')"
   ]
  },
  {
   "cell_type": "code",
   "execution_count": 5,
   "metadata": {},
   "outputs": [],
   "source": [
    "model = vae"
   ]
  },
  {
   "cell_type": "code",
   "execution_count": 32,
   "metadata": {},
   "outputs": [
    {
     "data": {
      "image/png": "[encoded data removed]",
      "text/plain": [
       "<Figure size 1080x216 with 20 Axes>"
      ]
     },
     "metadata": {
      "needs_background": "light"
     },
     "output_type": "display_data"
    }
   ],
   "source": [
    "# pick some images from test set, and have a peek\n",
    "\n",
    "n_to_show = 10\n",
    "example_idx = np.random.choice(range(len(X_test)), n_to_show)\n",
    "example_images = X_test[example_idx]\n",
    "\n",
    "z_points = model.encoder.predict(example_images)\n",
    "\n",
    "new_images = model.decoder.predict(z_points)\n",
    "\n",
    "# can i use AE.model.predict() ?\n",
    "# new_images = model.model.predict(example_images)\n",
    "\n",
    "fig = plt.figure(figsize=(15, 3))\n",
    "fig.subplots_adjust(hspace=0.4, wspace=0.4)\n",
    "\n",
    "for i in range(n_to_show):\n",
    "    img = example_images[i].squeeze()\n",
    "    ax = fig.add_subplot(2, n_to_show, i+1)\n",
    "    ax.axis('off')\n",
    "    ax.text(0.5, -0.35, \n",
    "            str(np.round(z_points[i], 1)),\n",
    "            fontsize=10,\n",
    "            ha='center',\n",
    "            transform=ax.transAxes\n",
    "           )\n",
    "    ax.imshow(img, cmap='gray_r')\n",
    "\n",
    "for i in range(n_to_show):\n",
    "    img = new_images[i].squeeze()\n",
    "    ax = fig.add_subplot(2, n_to_show, i+n_to_show+1)\n",
    "    ax.axis('off')\n",
    "    ax.imshow(img, cmap='gray_r')\n"
   ]
  },
  {
   "cell_type": "code",
   "execution_count": 33,
   "metadata": {},
   "outputs": [
    {
     "data": {
      "image/png": "[encoded data removed]",
      "text/plain": [
       "<Figure size 1080x216 with 10 Axes>"
      ]
     },
     "metadata": {
      "needs_background": "light"
     },
     "output_type": "display_data"
    }
   ],
   "source": [
    "# randomly pick some images \n",
    "test_points = np.random.normal(0, 1, z_points.shape)\n",
    "new_images = model.decoder.predict(test_points)\n",
    "fig = plt.figure(figsize=(15, 3))\n",
    "fig.subplots_adjust(hspace=0.4, wspace=0.4)\n",
    "for i in range(n_to_show):\n",
    "    img = new_images[i].squeeze()\n",
    "    ax = fig.add_subplot(2, n_to_show, i+1)\n",
    "    ax.axis('off')\n",
    "    ax.text(0.5, -0.35, \n",
    "            str(np.round(test_points[i], 1)),\n",
    "            fontsize=10,\n",
    "            ha='center',\n",
    "            transform=ax.transAxes\n",
    "           )\n",
    "    ax.imshow(img, cmap='gray_r')"
   ]
  },
  {
   "cell_type": "code",
   "execution_count": null,
   "metadata": {},
   "outputs": [],
   "source": []
  },
  {
   "cell_type": "code",
   "execution_count": null,
   "metadata": {},
   "outputs": [],
   "source": []
  },
  {
   "cell_type": "code",
   "execution_count": null,
   "metadata": {},
   "outputs": [],
   "source": []
  },
  {
   "cell_type": "code",
   "execution_count": null,
   "metadata": {},
   "outputs": [],
   "source": []
  },
  {
   "cell_type": "code",
   "execution_count": null,
   "metadata": {},
   "outputs": [],
   "source": []
  },
  {
   "cell_type": "code",
   "execution_count": null,
   "metadata": {},
   "outputs": [],
   "source": []
  }
 ],
 "metadata": {
  "kernelspec": {
   "display_name": "Python 3",
   "language": "python",
   "name": "python3"
  },
  "language_info": {
   "codemirror_mode": {
    "name": "ipython",
    "version": 3
   },
   "file_extension": ".py",
   "mimetype": "text/x-python",
   "name": "python",
   "nbconvert_exporter": "python",
   "pygments_lexer": "ipython3",
   "version": "3.6.9"
  }
 },
 "nbformat": 4,
 "nbformat_minor": 2
}
