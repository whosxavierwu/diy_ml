{
 "cells": [
  {
   "cell_type": "code",
   "execution_count": 105,
   "metadata": {},
   "outputs": [],
   "source": [
    "%matplotlib inline\n",
    "from matplotlib import pyplot as plt \n",
    "\n",
    "import numpy as np\n",
    "import pandas as pd\n",
    "import random\n",
    "\n",
    "from pandas.plotting import scatter_matrix\n",
    "\n",
    "from sklearn import model_selection\n",
    "from sklearn.base import BaseEstimator, TransformerMixin\n",
    "from sklearn.impute import SimpleImputer\n",
    "from sklearn.preprocessing import OrdinalEncoder, OneHotEncoder, StandardScaler\n",
    "from sklearn.pipeline import Pipeline\n",
    "from sklearn.compose import ColumnTransformer\n",
    "\n",
    "from sklearn.linear_model import LinearRegression\n",
    "from sklearn.tree import DecisionTreeRegressor\n",
    "from sklearn.ensemble import RandomForestRegressor\n",
    "from sklearn.svm import SVR\n",
    "\n",
    "from sklearn import metrics\n",
    "\n",
    "import joblib"
   ]
  },
  {
   "cell_type": "code",
   "execution_count": 89,
   "metadata": {},
   "outputs": [],
   "source": [
    "df_data = pd.read_csv('../datasets/housing/housing.csv', encoding='utf8', sep=',')\n",
    "df_test = None\n",
    "target_column = 'median_house_value'\n",
    "\n",
    "# df_data = pd.read_csv('../datasets/housing_kaggle/kaggle_house_pred_train.csv', encoding='utf8', sep=',')\n",
    "# df_test = pd.read_csv('../datasets/housing_kaggle/kaggle_house_pred_test.csv', encoding='utf8', sep=',')\n",
    "# target_column = 'SalePrice'"
   ]
  },
  {
   "cell_type": "markdown",
   "metadata": {},
   "source": [
    "# Load Data "
   ]
  },
  {
   "cell_type": "code",
   "execution_count": 90,
   "metadata": {},
   "outputs": [
    {
     "name": "stdout",
     "output_type": "stream",
     "text": [
      "shape:  (20640, 10)\n",
      "############################## info():\n",
      "<class 'pandas.core.frame.DataFrame'>\n",
      "RangeIndex: 20640 entries, 0 to 20639\n",
      "Data columns (total 10 columns):\n",
      "longitude             20640 non-null float64\n",
      "latitude              20640 non-null float64\n",
      "housing_median_age    20640 non-null float64\n",
      "total_rooms           20640 non-null float64\n",
      "total_bedrooms        20433 non-null float64\n",
      "population            20640 non-null float64\n",
      "households            20640 non-null float64\n",
      "median_income         20640 non-null float64\n",
      "median_house_value    20640 non-null float64\n",
      "ocean_proximity       20640 non-null object\n",
      "dtypes: float64(9), object(1)\n",
      "memory usage: 1.6+ MB\n",
      "None\n",
      "numeric columns:  ['longitude', 'latitude', 'housing_median_age', 'total_rooms', 'total_bedrooms', 'population', 'households', 'median_income', 'median_house_value']\n",
      "categorical columns:  ['ocean_proximity']\n",
      "############################## na_count:\n",
      "columns with NA:  ['total_bedrooms']\n",
      "           column  na_count\n",
      "4  total_bedrooms       207\n",
      "############################## head():\n",
      "   longitude  latitude  housing_median_age  total_rooms  total_bedrooms  \\\n",
      "0    -122.23     37.88                41.0        880.0           129.0   \n",
      "1    -122.22     37.86                21.0       7099.0          1106.0   \n",
      "2    -122.24     37.85                52.0       1467.0           190.0   \n",
      "3    -122.25     37.85                52.0       1274.0           235.0   \n",
      "4    -122.25     37.85                52.0       1627.0           280.0   \n",
      "\n",
      "   population  households  median_income  median_house_value ocean_proximity  \n",
      "0       322.0       126.0         8.3252            452600.0        NEAR BAY  \n",
      "1      2401.0      1138.0         8.3014            358500.0        NEAR BAY  \n",
      "2       496.0       177.0         7.2574            352100.0        NEAR BAY  \n",
      "3       558.0       219.0         5.6431            341300.0        NEAR BAY  \n",
      "4       565.0       259.0         3.8462            342200.0        NEAR BAY  \n",
      "############################## describe():\n",
      "          longitude      latitude  housing_median_age   total_rooms  \\\n",
      "count  20640.000000  20640.000000        20640.000000  20640.000000   \n",
      "mean    -119.569704     35.631861           28.639486   2635.763081   \n",
      "std        2.003532      2.135952           12.585558   2181.615252   \n",
      "min     -124.350000     32.540000            1.000000      2.000000   \n",
      "25%     -121.800000     33.930000           18.000000   1447.750000   \n",
      "50%     -118.490000     34.260000           29.000000   2127.000000   \n",
      "75%     -118.010000     37.710000           37.000000   3148.000000   \n",
      "max     -114.310000     41.950000           52.000000  39320.000000   \n",
      "\n",
      "       total_bedrooms    population    households  median_income  \\\n",
      "count    20433.000000  20640.000000  20640.000000   20640.000000   \n",
      "mean       537.870553   1425.476744    499.539680       3.870671   \n",
      "std        421.385070   1132.462122    382.329753       1.899822   \n",
      "min          1.000000      3.000000      1.000000       0.499900   \n",
      "25%        296.000000    787.000000    280.000000       2.563400   \n",
      "50%        435.000000   1166.000000    409.000000       3.534800   \n",
      "75%        647.000000   1725.000000    605.000000       4.743250   \n",
      "max       6445.000000  35682.000000   6082.000000      15.000100   \n",
      "\n",
      "       median_house_value  \n",
      "count        20640.000000  \n",
      "mean        206855.816909  \n",
      "std         115395.615874  \n",
      "min          14999.000000  \n",
      "25%         119600.000000  \n",
      "50%         179700.000000  \n",
      "75%         264725.000000  \n",
      "max         500001.000000  \n",
      "############################## value_counts()\n",
      "########## ocean_proximity\n",
      "<1H OCEAN     9136\n",
      "INLAND        6551\n",
      "NEAR OCEAN    2658\n",
      "NEAR BAY      2290\n",
      "ISLAND           5\n",
      "Name: ocean_proximity, dtype: int64\n"
     ]
    }
   ],
   "source": [
    "def peek_data(df, enable_plot=False):\n",
    "    print('shape: ', df.shape)\n",
    "    \n",
    "    print('#'*30 + ' info():')\n",
    "    print(df.info())\n",
    "    \n",
    "    cat_cols = [c for c in df.columns if df[c].dtype == 'object']\n",
    "    num_cols = [c for c in df.columns if c not in cat_cols]\n",
    "    print('numeric columns: ', num_cols)\n",
    "    print('categorical columns: ', cat_cols)\n",
    "    \n",
    "    print('#'*30 + ' na_count:')\n",
    "    df_tmp = df_data.isna().sum().reset_index().rename(columns={'index': 'column', 0: 'na_count'})\n",
    "    print('columns with NA: ', list(df_tmp.loc[df_tmp.na_count > 0]['column']))\n",
    "    print(df_tmp.loc[df_tmp.na_count > 0])\n",
    "    \n",
    "    print('#'*30 + ' head():')\n",
    "    print(df.head())\n",
    "    \n",
    "    print('#'*30 + ' describe():')\n",
    "    print(df[num_cols].describe())\n",
    "    \n",
    "    if len(cat_cols) > 0:\n",
    "        print('#' * 30 + ' value_counts()')\n",
    "        for col in cat_cols:\n",
    "            print('#' * 10 + ' ' + col)\n",
    "            print(df[col].value_counts())\n",
    "    \n",
    "    if enable_plot:\n",
    "        print('#'*30 + ' hist():')\n",
    "        df.hist(bins=50, figsize=(20, 15))\n",
    "        plt.show()\n",
    "    return \n",
    "\n",
    "peek_data(df_data, enable_plot=False)"
   ]
  },
  {
   "cell_type": "code",
   "execution_count": null,
   "metadata": {
    "scrolled": false
   },
   "outputs": [],
   "source": []
  },
  {
   "cell_type": "code",
   "execution_count": 106,
   "metadata": {},
   "outputs": [
    {
     "data": {
      "text/plain": [
       "0.5255268796735236"
      ]
     },
     "execution_count": 106,
     "metadata": {},
     "output_type": "execute_result"
    }
   ],
   "source": [
    "random.random()"
   ]
  },
  {
   "cell_type": "code",
   "execution_count": null,
   "metadata": {},
   "outputs": [],
   "source": []
  },
  {
   "cell_type": "code",
   "execution_count": null,
   "metadata": {},
   "outputs": [],
   "source": []
  },
  {
   "cell_type": "code",
   "execution_count": null,
   "metadata": {},
   "outputs": [],
   "source": []
  },
  {
   "cell_type": "markdown",
   "metadata": {},
   "source": [
    "# Split Data"
   ]
  },
  {
   "cell_type": "code",
   "execution_count": null,
   "metadata": {},
   "outputs": [],
   "source": []
  },
  {
   "cell_type": "code",
   "execution_count": 91,
   "metadata": {},
   "outputs": [
    {
     "data": {
      "image/png": "[encoded data removed]",
      "text/plain": [
       "<Figure size 432x288 with 1 Axes>"
      ]
     },
     "metadata": {
      "needs_background": "light"
     },
     "output_type": "display_data"
    }
   ],
   "source": [
    "df_housing['income_cat'] = pd.cut(df_housing['median_income'], bins=[0.0, 1.5, 3.0, 4.5, 6, np.inf], labels=[1, 2, 3, 4, 5])\n",
    "df_housing['income_cat'].hist()\n",
    "plt.show()"
   ]
  },
  {
   "cell_type": "code",
   "execution_count": 147,
   "metadata": {},
   "outputs": [
    {
     "name": "stdout",
     "output_type": "stream",
     "text": [
      "    Overall  Stratified    Random  Rand. %error  Strat. %error\n",
      "1  0.039826    0.039729  0.040213      0.973236      -0.243309\n",
      "2  0.318847    0.318798  0.324370      1.732260      -0.015195\n",
      "3  0.350581    0.350533  0.358527      2.266446      -0.013820\n",
      "4  0.176308    0.176357  0.167393     -5.056334       0.027480\n",
      "5  0.114438    0.114583  0.109496     -4.318374       0.127011\n"
     ]
    }
   ],
   "source": [
    "def try_split_data(df, val_percent, stratify_col, random_state=None):\n",
    "    # Stratified shuffle split\n",
    "    df_train_strat, df_val_strat = model_selection.train_test_split(\n",
    "        df_housing, test_size=val_percent, \n",
    "        random_state=random_state, shuffle=True, stratify=df_housing[stratify_col]\n",
    "    )\n",
    "\n",
    "    # random split\n",
    "    df_train_rand, df_val_rand = model_selection.train_test_split(\n",
    "        df_housing, test_size=val_percent, \n",
    "        random_state=random_state, shuffle=True, stratify=None\n",
    "    )\n",
    "\n",
    "    compare_props = pd.DataFrame({\n",
    "        \"Overall\": df_housing[stratify_col].value_counts() / len(df_housing),\n",
    "        \"Stratified\": df_val_strat[stratify_col].value_counts() / len(df_val_strat),\n",
    "        \"Random\": df_val_rand[stratify_col].value_counts() / len(df_val_rand),\n",
    "    }).sort_index()\n",
    "    compare_props[\"Rand. %error\"] = 100 * compare_props[\"Random\"] / compare_props[\"Overall\"] - 100\n",
    "    compare_props[\"Strat. %error\"] = 100 * compare_props[\"Stratified\"] / compare_props[\"Overall\"] - 100\n",
    "    print(compare_props)\n",
    "    \n",
    "try_split_data(df_data, 0.2, 'income_cat', None)"
   ]
  },
  {
   "cell_type": "code",
   "execution_count": null,
   "metadata": {},
   "outputs": [],
   "source": []
  },
  {
   "cell_type": "code",
   "execution_count": null,
   "metadata": {},
   "outputs": [],
   "source": []
  },
  {
   "cell_type": "code",
   "execution_count": null,
   "metadata": {},
   "outputs": [],
   "source": [
    "# seems like stratified split is better\n",
    "df_train = df_train_strat.drop(columns=[\"income_cat\"])\n",
    "df_val = df_val_strat.drop(columns=[\"income_cat\"])\n",
    "\n",
    "X_train = df_train.drop(\"median_house_value\", axis=1)\n",
    "y_train = df_train['median_house_value'].copy()\n",
    "print(X_train.shape, y_train.shape)\n",
    "\n",
    "X_val = df_val.drop(\"median_house_value\", axis=1)\n",
    "y_val = df_val['median_house_value'].copy()\n",
    "print(X_val.shape, y_val.shape)"
   ]
  },
  {
   "cell_type": "markdown",
   "metadata": {},
   "source": [
    "# EDA"
   ]
  },
  {
   "cell_type": "code",
   "execution_count": null,
   "metadata": {},
   "outputs": [],
   "source": [
    "df_train.plot(\n",
    "    kind=\"scatter\", \n",
    "    x = \"longitude\", \n",
    "    y = \"latitude\", \n",
    "    alpha = 0.4,  # ???\n",
    "    s = df_housing['population'] / 100,  # radius of circle\n",
    "    label = \"population\",  \n",
    "    figsize = (10, 7), \n",
    "    c = \"median_house_value\",  # color\n",
    "    cmap = plt.get_cmap(\"jet\"), \n",
    "    colorbar = True\n",
    ")\n",
    "plt.legend()\n",
    "plt.show()"
   ]
  },
  {
   "cell_type": "code",
   "execution_count": null,
   "metadata": {},
   "outputs": [],
   "source": [
    "corr_matrix = df_train.corr()\n",
    "corr_matrix[\"median_house_value\"].sort_values(ascending=False)"
   ]
  },
  {
   "cell_type": "code",
   "execution_count": null,
   "metadata": {},
   "outputs": [],
   "source": [
    "# attributes = [\"median_house_value\", \"median_income\", \"total_rooms\", \"housing_median_age\", \"latitude\"]\n",
    "# scatter_matrix(df_train[attributes], figsize=(16, 9))\n",
    "# plt.show()"
   ]
  },
  {
   "cell_type": "code",
   "execution_count": null,
   "metadata": {},
   "outputs": [],
   "source": [
    "df_train.plot(\n",
    "    kind=\"scatter\", \n",
    "    x = \"median_income\", \n",
    "    y = \"median_house_value\", \n",
    "    alpha = 0.1\n",
    ")\n",
    "plt.show()"
   ]
  },
  {
   "cell_type": "code",
   "execution_count": null,
   "metadata": {},
   "outputs": [],
   "source": []
  },
  {
   "cell_type": "code",
   "execution_count": null,
   "metadata": {},
   "outputs": [],
   "source": []
  },
  {
   "cell_type": "markdown",
   "metadata": {},
   "source": [
    "# Feature Engineering"
   ]
  },
  {
   "cell_type": "code",
   "execution_count": null,
   "metadata": {},
   "outputs": [],
   "source": []
  },
  {
   "cell_type": "code",
   "execution_count": null,
   "metadata": {},
   "outputs": [],
   "source": [
    "\n",
    "def do_feature_engineering(df_X):\n",
    "    # try some attribute combinations\n",
    "    df_tmp = df_X.copy()\n",
    "    df_tmp['rooms_per_household'] = df_tmp['total_rooms'] / df_tmp['households']\n",
    "    df_tmp['bedrooms_per_room'] = df_tmp['total_bedrooms'] / df_tmp['total_rooms']\n",
    "    df_tmp['population_per_household'] = df_tmp['population'] / df_tmp['households']\n",
    "    \n",
    "    cat_feats = [\"ocean_proximity\"]\n",
    "    num_feats = [c for c in df_tmp.columns if c not in cat_feats]\n",
    "    print(\"num_feats\", num_feats)\n",
    "    print(\"cat_feats: \", cat_feats)\n",
    "    \n",
    "    num_pipeline = Pipeline([\n",
    "        (\"imputer\", SimpleImputer(strategy=\"median\")), \n",
    "        (\"std_scaler\", StandardScaler())\n",
    "    ])\n",
    "\n",
    "    cat_pipeline = Pipeline([\n",
    "        (\"onehot_encoder\", OneHotEncoder()), \n",
    "    ])\n",
    "\n",
    "    full_pipeline = ColumnTransformer([\n",
    "        (\"num\", num_pipeline, num_feats), \n",
    "        (\"cat\", cat_pipeline, cat_feats), \n",
    "    ])\n",
    "    \n",
    "    return full_pipeline.fit_transform(df_tmp)\n",
    "\n",
    "X_train_prepared = do_feature_engineering(X_train)\n",
    "print(X_train_prepared.shape)\n",
    "X_train_prepared[:3]"
   ]
  },
  {
   "cell_type": "code",
   "execution_count": null,
   "metadata": {
    "scrolled": false
   },
   "outputs": [],
   "source": []
  },
  {
   "cell_type": "markdown",
   "metadata": {},
   "source": [
    "# Modeling"
   ]
  },
  {
   "cell_type": "code",
   "execution_count": null,
   "metadata": {},
   "outputs": [],
   "source": [
    "lr = LinearRegression(n_jobs=-1)\n",
    "decision_tree = DecisionTreeRegressor(random_state=42)\n",
    "rf = RandomForestRegressor(n_estimators=100, random_state=42, n_jobs=-1)\n",
    "svr = SVR(kernel=\"linear\")\n",
    "model = svr\n",
    "model.fit(X_train_prepared, y_train)"
   ]
  },
  {
   "cell_type": "code",
   "execution_count": null,
   "metadata": {
    "scrolled": false
   },
   "outputs": [],
   "source": [
    "y_train_pred = model.predict(X_train_prepared)\n",
    "print(\"rmse: \", np.sqrt(metrics.mean_squared_error(y_true=y_train, y_pred=y_train_pred)))\n",
    "\n",
    "X_val_prepared = do_feature_engineering(X_val)\n",
    "y_val_pred = model.predict(X_val_prepared)\n",
    "print(\"rmse: \", np.sqrt(metrics.mean_squared_error(y_true=y_val, y_pred=y_val_pred)))"
   ]
  },
  {
   "cell_type": "code",
   "execution_count": null,
   "metadata": {},
   "outputs": [],
   "source": [
    "scores = model_selection.cross_val_score(\n",
    "    model, \n",
    "    X_train_prepared, \n",
    "    y_train, \n",
    "    scoring=\"neg_mean_squared_error\", \n",
    "    cv=10\n",
    ")\n",
    "print(\"rmse: %f +- %f\" % (np.sqrt(-scores).mean(), np.sqrt(-scores).std()))"
   ]
  },
  {
   "cell_type": "code",
   "execution_count": null,
   "metadata": {},
   "outputs": [],
   "source": [
    "# joblib.dump(model, \"model_tmp.pkl\")\n",
    "# model  =joblib.load(\"model_tmp.pkl\")"
   ]
  },
  {
   "cell_type": "code",
   "execution_count": null,
   "metadata": {},
   "outputs": [],
   "source": [
    "param_grid = [\n",
    "    {\"n_estimators\": [3, 10, 30], \"max_features\": [2, 4, 6, 8]}, \n",
    "    {\"bootstrap\": [False], \"n_estimators\": [3, 10], \"max_features\": [2, 3, 4]}\n",
    "]\n",
    "\n",
    "grid_search = model_selection.GridSearchCV(\n",
    "    rf, param_grid, cv=5, \n",
    "    scoring=\"neg_mean_squared_error\", \n",
    "    return_train_score=True\n",
    ")\n",
    "grid_search.fit(X_train_prepared, y_train)"
   ]
  },
  {
   "cell_type": "code",
   "execution_count": null,
   "metadata": {},
   "outputs": [],
   "source": [
    "grid_search.best_params_"
   ]
  },
  {
   "cell_type": "code",
   "execution_count": null,
   "metadata": {},
   "outputs": [],
   "source": [
    "grid_search.best_estimator_"
   ]
  },
  {
   "cell_type": "code",
   "execution_count": null,
   "metadata": {},
   "outputs": [],
   "source": [
    "cvres = grid_search.cv_results_\n",
    "for mean_score, params in zip(cvres['mean_test_score'], cvres['params']):\n",
    "    print(np.sqrt(-mean_score), params)"
   ]
  },
  {
   "cell_type": "code",
   "execution_count": null,
   "metadata": {},
   "outputs": [],
   "source": [
    "feature_importances= grid_search.best_estimator_.feature_importances_\n",
    "feature_importances"
   ]
  },
  {
   "cell_type": "code",
   "execution_count": null,
   "metadata": {},
   "outputs": [],
   "source": [
    "extra_attribs = [\"rooms_per_hhold\", \"pop_per_hhold\", \"bedrooms_per_room\"]\n",
    "#cat_encoder = cat_pipeline.named_steps[\"cat_encoder\"] # old solution\n",
    "cat_encoder = full_pipeline.named_transformers_[\"cat\"].named_steps[\"onehot_encoder\"]\n",
    "cat_one_hot_attribs = list(cat_encoder.categories_[0])\n",
    "attributes = [c for c in X_train.columns if c not in [\"ocean_proximity\"]]  + cat_one_hot_attribs\n",
    "sorted(zip(feature_importances, attributes), reverse=True)"
   ]
  },
  {
   "cell_type": "code",
   "execution_count": null,
   "metadata": {},
   "outputs": [],
   "source": [
    "y_val_pred = grid_search.best_estimator_.predict(X_val_prepared)\n",
    "print(\"rmse: \", np.sqrt(metrics.mean_squared_error(y_true=y_val, y_pred=y_val_pred)))"
   ]
  },
  {
   "cell_type": "code",
   "execution_count": null,
   "metadata": {},
   "outputs": [],
   "source": [
    "from scipy import stats\n",
    "\n",
    "confidence = 0.95\n",
    "squared_errors = (y_val_pred - y_val) ** 2\n",
    "np.sqrt(stats.t.interval(confidence, len(squared_errors) - 1,\n",
    "                         loc=squared_errors.mean(),\n",
    "                         scale=stats.sem(squared_errors)))"
   ]
  },
  {
   "cell_type": "code",
   "execution_count": null,
   "metadata": {},
   "outputs": [],
   "source": [
    "m = len(squared_errors)\n",
    "mean = squared_errors.mean()\n",
    "tscore = stats.t.ppf((1 + confidence) / 2, df=m - 1)\n",
    "tmargin = tscore * squared_errors.std(ddof=1) / np.sqrt(m)\n",
    "np.sqrt(mean - tmargin), np.sqrt(mean + tmargin)"
   ]
  },
  {
   "cell_type": "code",
   "execution_count": null,
   "metadata": {},
   "outputs": [],
   "source": [
    "zscore = stats.norm.ppf((1 + confidence) / 2)\n",
    "zmargin = zscore * squared_errors.std(ddof=1) / np.sqrt(m)\n",
    "np.sqrt(mean - zmargin), np.sqrt(mean + zmargin)"
   ]
  },
  {
   "cell_type": "code",
   "execution_count": null,
   "metadata": {},
   "outputs": [],
   "source": []
  }
 ],
 "metadata": {
  "kernelspec": {
   "display_name": "Python 3",
   "language": "python",
   "name": "python3"
  },
  "language_info": {
   "codemirror_mode": {
    "name": "ipython",
    "version": 3
   },
   "file_extension": ".py",
   "mimetype": "text/x-python",
   "name": "python",
   "nbconvert_exporter": "python",
   "pygments_lexer": "ipython3",
   "version": "3.6.9"
  }
 },
 "nbformat": 4,
 "nbformat_minor": 2
}
