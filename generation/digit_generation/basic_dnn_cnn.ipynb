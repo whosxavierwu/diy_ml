{
 "cells": [
  {
   "cell_type": "code",
   "execution_count": 9,
   "metadata": {},
   "outputs": [],
   "source": [
    "import numpy as np\n",
    "\n",
    "import tensorflow as tf\n",
    "from tensorflow.keras import datasets as K_datasets\n",
    "from tensorflow.keras import models as K_models\n",
    "from tensorflow.keras import layers as K_layers\n",
    "from tensorflow.keras import utils as K_utils\n",
    "from tensorflow.keras import optimizers as K_optimizers"
   ]
  },
  {
   "cell_type": "code",
   "execution_count": 2,
   "metadata": {},
   "outputs": [
    {
     "name": "stdout",
     "output_type": "stream",
     "text": [
      "(50000, 32, 32, 3) (50000, 1) (10000, 32, 32, 3) (10000, 1) 10\n"
     ]
    }
   ],
   "source": [
    "(X_train, y_train), (X_test, y_test) = K_datasets.cifar10.load_data()\n",
    "num_classes = len(np.unique(np.concatenate([y_train, y_test])))\n",
    "print(X_train.shape, y_train.shape, X_test.shape, y_test.shape, num_classes)"
   ]
  },
  {
   "cell_type": "code",
   "execution_count": 4,
   "metadata": {},
   "outputs": [
    {
     "name": "stdout",
     "output_type": "stream",
     "text": [
      "(50000, 32, 32, 3) (50000, 10) (10000, 32, 32, 3) (10000, 10)\n"
     ]
    }
   ],
   "source": [
    "X_train = X_train.astype(\"float32\") / 255.0\n",
    "X_test = X_test.astype(\"float32\") / 255.0\n",
    "\n",
    "y_train = K_utils.to_categorical(y_train, num_classes)\n",
    "y_test = K_utils.to_categorical(y_test, num_classes)\n",
    "\n",
    "print(X_train.shape, y_train.shape, X_test.shape, y_test.shape)"
   ]
  },
  {
   "cell_type": "code",
   "execution_count": null,
   "metadata": {},
   "outputs": [],
   "source": []
  },
  {
   "cell_type": "code",
   "execution_count": 7,
   "metadata": {},
   "outputs": [
    {
     "name": "stdout",
     "output_type": "stream",
     "text": [
      "Model: \"sequential_1\"\n",
      "_________________________________________________________________\n",
      "Layer (type)                 Output Shape              Param #   \n",
      "=================================================================\n",
      "flatten_1 (Flatten)          (None, 3072)              0         \n",
      "_________________________________________________________________\n",
      "dense_3 (Dense)              (None, 200)               614600    \n",
      "_________________________________________________________________\n",
      "dense_4 (Dense)              (None, 150)               30150     \n",
      "_________________________________________________________________\n",
      "dense_5 (Dense)              (None, 10)                1510      \n",
      "=================================================================\n",
      "Total params: 646,260\n",
      "Trainable params: 646,260\n",
      "Non-trainable params: 0\n",
      "_________________________________________________________________\n",
      "None\n",
      "Model: \"model\"\n",
      "_________________________________________________________________\n",
      "Layer (type)                 Output Shape              Param #   \n",
      "=================================================================\n",
      "input_1 (InputLayer)         [(None, 32, 32, 3)]       0         \n",
      "_________________________________________________________________\n",
      "flatten_2 (Flatten)          (None, 3072)              0         \n",
      "_________________________________________________________________\n",
      "dense_6 (Dense)              (None, 200)               614600    \n",
      "_________________________________________________________________\n",
      "dense_7 (Dense)              (None, 150)               30150     \n",
      "_________________________________________________________________\n",
      "dense_8 (Dense)              (None, 10)                1510      \n",
      "=================================================================\n",
      "Total params: 646,260\n",
      "Trainable params: 646,260\n",
      "Non-trainable params: 0\n",
      "_________________________________________________________________\n",
      "None\n"
     ]
    }
   ],
   "source": [
    "# two methods to build a model\n",
    "\n",
    "model = K_models.Sequential([\n",
    "    K_layers.Flatten(input_shape=(32, 32, 3)), \n",
    "    K_layers.Dense(200, activation='relu'),\n",
    "    K_layers.Dense(150, activation='relu'), \n",
    "    K_layers.Dense(10, activation='softmax')\n",
    "])\n",
    "print(model.summary())\n",
    "\n",
    "# input_layer = K_layers.Input(shape=(32, 32, 3))\n",
    "# x = K_layers.Flatten()(input_layer)\n",
    "# x = K_layers.Dense(units=200, activation='relu')(x)\n",
    "# x = K_layers.Dense(units=150, activation='relu')(x)\n",
    "# output_layer = K_layers.Dense(units=10, activation='softmax')(x)\n",
    "# model = K_models.Model(input_layer, output_layer)\n",
    "# print(model.summary())"
   ]
  },
  {
   "cell_type": "code",
   "execution_count": 30,
   "metadata": {},
   "outputs": [
    {
     "name": "stdout",
     "output_type": "stream",
     "text": [
      "Model: \"sequential_5\"\n",
      "_________________________________________________________________\n",
      "Layer (type)                 Output Shape              Param #   \n",
      "=================================================================\n",
      "conv2d_21 (Conv2D)           (None, 32, 32, 32)        896       \n",
      "_________________________________________________________________\n",
      "batch_normalization_22 (Batc (None, 32, 32, 32)        128       \n",
      "_________________________________________________________________\n",
      "leaky_re_lu_21 (LeakyReLU)   (None, 32, 32, 32)        0         \n",
      "_________________________________________________________________\n",
      "conv2d_22 (Conv2D)           (None, 16, 16, 32)        9248      \n",
      "_________________________________________________________________\n",
      "batch_normalization_23 (Batc (None, 16, 16, 32)        128       \n",
      "_________________________________________________________________\n",
      "leaky_re_lu_22 (LeakyReLU)   (None, 16, 16, 32)        0         \n",
      "_________________________________________________________________\n",
      "conv2d_23 (Conv2D)           (None, 16, 16, 64)        18496     \n",
      "_________________________________________________________________\n",
      "batch_normalization_24 (Batc (None, 16, 16, 64)        256       \n",
      "_________________________________________________________________\n",
      "leaky_re_lu_23 (LeakyReLU)   (None, 16, 16, 64)        0         \n",
      "_________________________________________________________________\n",
      "conv2d_24 (Conv2D)           (None, 8, 8, 64)          36928     \n",
      "_________________________________________________________________\n",
      "batch_normalization_25 (Batc (None, 8, 8, 64)          256       \n",
      "_________________________________________________________________\n",
      "leaky_re_lu_24 (LeakyReLU)   (None, 8, 8, 64)          0         \n",
      "_________________________________________________________________\n",
      "flatten_8 (Flatten)          (None, 4096)              0         \n",
      "_________________________________________________________________\n",
      "dense_18 (Dense)             (None, 128)               524416    \n",
      "_________________________________________________________________\n",
      "batch_normalization_26 (Batc (None, 128)               512       \n",
      "_________________________________________________________________\n",
      "leaky_re_lu_25 (LeakyReLU)   (None, 128)               0         \n",
      "_________________________________________________________________\n",
      "dropout_4 (Dropout)          (None, 128)               0         \n",
      "_________________________________________________________________\n",
      "dense_19 (Dense)             (None, 10)                1290      \n",
      "=================================================================\n",
      "Total params: 592,554\n",
      "Trainable params: 591,914\n",
      "Non-trainable params: 640\n",
      "_________________________________________________________________\n",
      "None\n"
     ]
    }
   ],
   "source": [
    "model = K_models.Sequential([\n",
    "    K_layers.Input((32, 32, 3)),\n",
    "    \n",
    "    K_layers.Conv2D(\n",
    "        filters=32, \n",
    "        kernel_size=3,\n",
    "        strides=1,\n",
    "        padding='same'\n",
    "    ),\n",
    "    K_layers.BatchNormalization(),\n",
    "    K_layers.LeakyReLU(),\n",
    "    \n",
    "    K_layers.Conv2D(\n",
    "        filters=32, \n",
    "        kernel_size=3,\n",
    "        strides=2,\n",
    "        padding='same'\n",
    "    ),\n",
    "    K_layers.BatchNormalization(),\n",
    "    K_layers.LeakyReLU(),\n",
    "    \n",
    "    K_layers.Conv2D(\n",
    "        filters=64, \n",
    "        kernel_size=3,\n",
    "        strides=1,\n",
    "        padding='same'\n",
    "    ),\n",
    "    K_layers.BatchNormalization(),\n",
    "    K_layers.LeakyReLU(),\n",
    "    \n",
    "    K_layers.Conv2D(\n",
    "        filters=64, \n",
    "        kernel_size=3,\n",
    "        strides=2,\n",
    "        padding='same'\n",
    "    ),\n",
    "    K_layers.BatchNormalization(),\n",
    "    K_layers.LeakyReLU(),\n",
    "    \n",
    "    K_layers.Flatten(),\n",
    "    \n",
    "    K_layers.Dense(128),\n",
    "    K_layers.BatchNormalization(),\n",
    "    K_layers.LeakyReLU(),\n",
    "    K_layers.Dropout(0.5),\n",
    "    \n",
    "    K_layers.Dense(num_classes, activation='softmax'),\n",
    "])\n",
    "print(model.summary())"
   ]
  },
  {
   "cell_type": "code",
   "execution_count": 31,
   "metadata": {},
   "outputs": [],
   "source": [
    "opt = K_optimizers.Adam(lr=0.0005)\n",
    "model.compile(\n",
    "    loss='categorical_crossentropy', \n",
    "    optimizer=opt, \n",
    "    metrics=['accuracy']\n",
    ")"
   ]
  },
  {
   "cell_type": "code",
   "execution_count": 32,
   "metadata": {},
   "outputs": [
    {
     "name": "stdout",
     "output_type": "stream",
     "text": [
      "Train on 50000 samples\n",
      "Epoch 1/10\n",
      "50000/50000 [==============================] - 118s 2ms/sample - loss: 1.5550 - accuracy: 0.4521\n",
      "Epoch 2/10\n",
      "50000/50000 [==============================] - 129s 3ms/sample - loss: 1.1488 - accuracy: 0.5933\n",
      "Epoch 3/10\n",
      "50000/50000 [==============================] - 125s 3ms/sample - loss: 0.9989 - accuracy: 0.6494\n",
      "Epoch 4/10\n",
      "50000/50000 [==============================] - 127s 3ms/sample - loss: 0.9146 - accuracy: 0.6790\n",
      "Epoch 5/10\n",
      "50000/50000 [==============================] - 125s 2ms/sample - loss: 0.8518 - accuracy: 0.7043\n",
      "Epoch 6/10\n",
      "50000/50000 [==============================] - 121s 2ms/sample - loss: 0.7996 - accuracy: 0.7197\n",
      "Epoch 7/10\n",
      "50000/50000 [==============================] - 122s 2ms/sample - loss: 0.7595 - accuracy: 0.7361\n",
      "Epoch 8/10\n",
      "50000/50000 [==============================] - 123s 2ms/sample - loss: 0.7146 - accuracy: 0.7486\n",
      "Epoch 9/10\n",
      "50000/50000 [==============================] - 121s 2ms/sample - loss: 0.6815 - accuracy: 0.7630\n",
      "Epoch 10/10\n",
      "50000/50000 [==============================] - 123s 2ms/sample - loss: 0.6497 - accuracy: 0.7713\n"
     ]
    },
    {
     "data": {
      "text/plain": [
       "<tensorflow.python.keras.callbacks.History at 0x17fab3a5d68>"
      ]
     },
     "execution_count": 32,
     "metadata": {},
     "output_type": "execute_result"
    }
   ],
   "source": [
    "model.fit(\n",
    "    X_train, \n",
    "    y_train, \n",
    "    batch_size=32, \n",
    "    epochs=10, \n",
    "    shuffle=True\n",
    ")"
   ]
  },
  {
   "cell_type": "code",
   "execution_count": 33,
   "metadata": {},
   "outputs": [
    {
     "data": {
      "text/plain": [
       "[0.841629586982727, 0.7125]"
      ]
     },
     "execution_count": 33,
     "metadata": {},
     "output_type": "execute_result"
    }
   ],
   "source": [
    "model.evaluate(X_test, y_test, verbose=False)"
   ]
  },
  {
   "cell_type": "code",
   "execution_count": 14,
   "metadata": {},
   "outputs": [],
   "source": [
    "CLASSES = np.array([\n",
    "    'airplane', 'automobile', 'bird', 'cat', 'deer', 'dog', \n",
    "    'frog', 'horse', 'ship', 'truck'\n",
    "])\n",
    "preds = model.predict(X_test)\n",
    "preds_single = CLASSES[np.argmax(preds, axis=-1)]\n",
    "actual_single = CLASSES[np.argmax(y_test, axis=-1)]"
   ]
  },
  {
   "cell_type": "code",
   "execution_count": 15,
   "metadata": {},
   "outputs": [],
   "source": [
    "from matplotlib import pyplot as plt"
   ]
  },
  {
   "cell_type": "code",
   "execution_count": 18,
   "metadata": {},
   "outputs": [
    {
     "data": {
      "image/png": "[encoded data removed]",
      "text/plain": [
       "<Figure size 1080x216 with 10 Axes>"
      ]
     },
     "metadata": {
      "needs_background": "light"
     },
     "output_type": "display_data"
    }
   ],
   "source": [
    "n_to_show = 10\n",
    "indices = np.random.choice(range(len(X_test)), n_to_show)\n",
    "fig = plt.figure(figsize=(15, 3))\n",
    "fig.subplots_adjust(hspace=0.4, wspace=0.4)\n",
    "\n",
    "for i, idx in enumerate(indices):\n",
    "    img = X_test[idx]\n",
    "    ax = fig.add_subplot(1, n_to_show, i+1)\n",
    "    ax.axis('off')\n",
    "    ax.text(0.5, -0.35, \n",
    "            'pred= ' + str(preds_single[idx]), \n",
    "            fontsize=10, \n",
    "            ha='center', \n",
    "            transform=ax.transAxes\n",
    "           )\n",
    "    ax.text(0.5, -0.7, \n",
    "            'act= ' + str(actual_single[idx]), \n",
    "            fontsize=10, \n",
    "            ha='center', \n",
    "            transform=ax.transAxes\n",
    "    )\n",
    "    ax.imshow(img)"
   ]
  },
  {
   "cell_type": "code",
   "execution_count": null,
   "metadata": {},
   "outputs": [],
   "source": []
  },
  {
   "cell_type": "code",
   "execution_count": 21,
   "metadata": {},
   "outputs": [
    {
     "name": "stdout",
     "output_type": "stream",
     "text": [
      "Model: \"model_1\"\n",
      "_________________________________________________________________\n",
      "Layer (type)                 Output Shape              Param #   \n",
      "=================================================================\n",
      "input_3 (InputLayer)         [(None, 32, 32, 3)]       0         \n",
      "_________________________________________________________________\n",
      "conv2d_1 (Conv2D)            (None, 16, 16, 10)        490       \n",
      "_________________________________________________________________\n",
      "conv2d_2 (Conv2D)            (None, 8, 8, 20)          1820      \n",
      "_________________________________________________________________\n",
      "flatten_3 (Flatten)          (None, 1280)              0         \n",
      "_________________________________________________________________\n",
      "dense_9 (Dense)              (None, 10)                12810     \n",
      "=================================================================\n",
      "Total params: 15,120\n",
      "Trainable params: 15,120\n",
      "Non-trainable params: 0\n",
      "_________________________________________________________________\n",
      "None\n"
     ]
    }
   ],
   "source": [
    "input_layer = K_layers.Input((32, 32, 3))\n",
    "\n",
    "conv_layer_1 = K_layers.Conv2D(\n",
    "    filters = 10, \n",
    "    kernel_size = (4, 4), \n",
    "    strides = 2, \n",
    "    padding = 'same'\n",
    ")(input_layer)\n",
    "\n",
    "conv_layer_2 = K_layers.Conv2D(\n",
    "    filters = 20, \n",
    "    kernel_size = (3, 3), \n",
    "    strides = 2, \n",
    "    padding = 'same'\n",
    ")(conv_layer_1)\n",
    "\n",
    "flatten_layer = K_layers.Flatten()(conv_layer_2)\n",
    "\n",
    "output_layer = K_layers.Dense(10, activation='softmax')(flatten_layer)\n",
    "\n",
    "model = K_models.Model(input_layer, output_layer)\n",
    "print(model.summary())"
   ]
  },
  {
   "cell_type": "code",
   "execution_count": null,
   "metadata": {},
   "outputs": [],
   "source": []
  },
  {
   "cell_type": "code",
   "execution_count": null,
   "metadata": {},
   "outputs": [],
   "source": []
  },
  {
   "cell_type": "code",
   "execution_count": null,
   "metadata": {},
   "outputs": [],
   "source": []
  },
  {
   "cell_type": "code",
   "execution_count": null,
   "metadata": {},
   "outputs": [],
   "source": []
  }
 ],
 "metadata": {
  "kernelspec": {
   "display_name": "Python 3",
   "language": "python",
   "name": "python3"
  },
  "language_info": {
   "codemirror_mode": {
    "name": "ipython",
    "version": 3
   },
   "file_extension": ".py",
   "mimetype": "text/x-python",
   "name": "python",
   "nbconvert_exporter": "python",
   "pygments_lexer": "ipython3",
   "version": "3.6.9"
  }
 },
 "nbformat": 4,
 "nbformat_minor": 2
}
